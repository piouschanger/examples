{
 "cells": [
  {
   "cell_type": "code",
   "execution_count": 135,
   "metadata": {},
   "outputs": [
    {
     "data": {
      "text/html": [
       "<div>\n",
       "<style scoped>\n",
       "    .dataframe tbody tr th:only-of-type {\n",
       "        vertical-align: middle;\n",
       "    }\n",
       "\n",
       "    .dataframe tbody tr th {\n",
       "        vertical-align: top;\n",
       "    }\n",
       "\n",
       "    .dataframe thead th {\n",
       "        text-align: right;\n",
       "    }\n",
       "</style>\n",
       "<table border=\"1\" class=\"dataframe\">\n",
       "  <thead>\n",
       "    <tr style=\"text-align: right;\">\n",
       "      <th></th>\n",
       "      <th>y</th>\n",
       "      <th>ali_score</th>\n",
       "      <th>be_query_cnt_12</th>\n",
       "      <th>credit_score</th>\n",
       "      <th>12_diff_month_sum_repay_remind_average_level</th>\n",
       "      <th>bai_score</th>\n",
       "      <th>3m_apply_count_score</th>\n",
       "      <th>be_mean</th>\n",
       "      <th>riskscore</th>\n",
       "      <th>pct_cnt_to_black</th>\n",
       "      <th>riskcategoryconsuming</th>\n",
       "    </tr>\n",
       "  </thead>\n",
       "  <tbody>\n",
       "    <tr>\n",
       "      <th>0</th>\n",
       "      <td>0</td>\n",
       "      <td>93.47</td>\n",
       "      <td>24</td>\n",
       "      <td>595</td>\n",
       "      <td>-999</td>\n",
       "      <td>62.8</td>\n",
       "      <td>17</td>\n",
       "      <td>42.18</td>\n",
       "      <td>-999</td>\n",
       "      <td>0.732837</td>\n",
       "      <td>-1.00</td>\n",
       "    </tr>\n",
       "    <tr>\n",
       "      <th>1</th>\n",
       "      <td>0</td>\n",
       "      <td>32.90</td>\n",
       "      <td>18</td>\n",
       "      <td>745</td>\n",
       "      <td>-999</td>\n",
       "      <td>76.3</td>\n",
       "      <td>3</td>\n",
       "      <td>51.50</td>\n",
       "      <td>-999</td>\n",
       "      <td>0.732837</td>\n",
       "      <td>-1.00</td>\n",
       "    </tr>\n",
       "    <tr>\n",
       "      <th>2</th>\n",
       "      <td>0</td>\n",
       "      <td>49.59</td>\n",
       "      <td>295</td>\n",
       "      <td>798</td>\n",
       "      <td>-999</td>\n",
       "      <td>67.1</td>\n",
       "      <td>9</td>\n",
       "      <td>48.36</td>\n",
       "      <td>-999</td>\n",
       "      <td>0.732837</td>\n",
       "      <td>-1.00</td>\n",
       "    </tr>\n",
       "    <tr>\n",
       "      <th>3</th>\n",
       "      <td>0</td>\n",
       "      <td>67.18</td>\n",
       "      <td>45</td>\n",
       "      <td>610</td>\n",
       "      <td>-999</td>\n",
       "      <td>86.1</td>\n",
       "      <td>1</td>\n",
       "      <td>26.56</td>\n",
       "      <td>-999</td>\n",
       "      <td>0.957911</td>\n",
       "      <td>53.20</td>\n",
       "    </tr>\n",
       "    <tr>\n",
       "      <th>4</th>\n",
       "      <td>0</td>\n",
       "      <td>56.14</td>\n",
       "      <td>145</td>\n",
       "      <td>843</td>\n",
       "      <td>3</td>\n",
       "      <td>90.8</td>\n",
       "      <td>16</td>\n",
       "      <td>51.92</td>\n",
       "      <td>-999</td>\n",
       "      <td>0.910633</td>\n",
       "      <td>13.56</td>\n",
       "    </tr>\n",
       "  </tbody>\n",
       "</table>\n",
       "</div>"
      ],
      "text/plain": [
       "   y  ali_score  be_query_cnt_12  credit_score  \\\n",
       "0  0      93.47               24           595   \n",
       "1  0      32.90               18           745   \n",
       "2  0      49.59              295           798   \n",
       "3  0      67.18               45           610   \n",
       "4  0      56.14              145           843   \n",
       "\n",
       "   12_diff_month_sum_repay_remind_average_level  bai_score  \\\n",
       "0                                          -999       62.8   \n",
       "1                                          -999       76.3   \n",
       "2                                          -999       67.1   \n",
       "3                                          -999       86.1   \n",
       "4                                             3       90.8   \n",
       "\n",
       "   3m_apply_count_score  be_mean  riskscore  pct_cnt_to_black  \\\n",
       "0                    17    42.18       -999          0.732837   \n",
       "1                     3    51.50       -999          0.732837   \n",
       "2                     9    48.36       -999          0.732837   \n",
       "3                     1    26.56       -999          0.957911   \n",
       "4                    16    51.92       -999          0.910633   \n",
       "\n",
       "   riskcategoryconsuming  \n",
       "0                  -1.00  \n",
       "1                  -1.00  \n",
       "2                  -1.00  \n",
       "3                  53.20  \n",
       "4                  13.56  "
      ]
     },
     "execution_count": 135,
     "metadata": {},
     "output_type": "execute_result"
    }
   ],
   "source": [
    "import pandas as pd\n",
    "import numpy as np\n",
    "from statsmodels.stats.outliers_influence import variance_inflation_factor\n",
    "df =                                                                                                                                                                                                                                                                                                                                                                                                                                                                                                                                                                                                                                                                                                                                                                                                                                                                                                                                                                                                                                                                                                                                                                                                                                                                                                                                                                                                                                                                                                                                                                                                                                                                                                                                                                                                                                                                                                                                                                                                                                                                                                                                                                                                                                                                                                                                                                                                                                                                                                                                                                                                                                                                                                                                                                                                                                                                                                                                                                                                                                                                                                                                                                                                                                                                                                                                                                                                                                                                                                                                                                                                                                                                                                                                                                                                                                                                                                                                                                                                                                                                                                                                                                                                                                                                                                                                                                                                                                                                                                                                                                                                                                                                                                                                                                                                                                                                                                                                                                                                                                                                                                                                                                                                                                                                                                                                                                                                                                                                                                                                                                                                                                                                                                                                                                                                                                                                                                                                                                                                                                                                                                                                                                                                                                                                                                                                                                                                                                                                                                                                                                                                                                                                                                                                                                                                                                                                                                                                                                                                                                                                                                                                                                                                                                                                                                                                                                                                                                                                                                                                                                                                                                                                                                                                                                                                                                                                                                                                                                                                                                                                                                                                                                                                                                                                                                                                                                                                                                                                                                                                                                                                                                                                                                                                                                                                                                                                                                                                                                                                                                                                                                                                                                                                                                                                                                                                                                                                                                                                                                                                                                                                                                                                                                                                                                                                                                                                                                                                                                                                                                                                                                                                                                                                                                                                                                                                                                                                                                                                                                                                                                                                                                                                                                                                                                                                                                                                                                                                                                                                                                                                                                                                                                                                                                                                                                                                                                                                                                                                                                                                                                                                                                                                                                                                                                                                                                                                                                                                                                                                                                                                                                                                                                                                                                                                                                                                                                                                                                                                                                                                                                                                                                                                                                                                                                                                                                                                                                                                                                                                                                                                                                                                                                                                                                                                                                                                                                                                                                                                                                                                                                                                                                                                                                                                                                                                                                                                                                                                                                                                                                                                                                                                                                                                                                                                                                                                                                                                                                                                                                                                                                                                                                                                                                                                                                                                                                                                                                                                                                                                                                                                                                                                                                                                                                                                                                                                                                                                                                                                                                                                                                                                                                                                                                                                                                                                                                                                                                                                                                                                                                                                                                                                                                                                                                                                                                                                                                                                                                                                                                                                                                                                                                                                                                                                                                                                                                                                                                                                                                                                                                                                                                                                                                                                                                                                                                                                                                                                                                                                                                                                                                                                                                                                                                                                                                                                                                                                                                                                                                                                                                                                                                                                                                                                                                                                                                                                                                                                                                                                                                                                                                                                                                                                                                                                                                                                                                                                                                                                                                                                                                                                                                                                                                                                                                                                                                                                                                                                                                                                                                                                                                                                                                                                                                                                                                                                                                                                                                                                                                                                                                                                                                                                                                                                                                                                                                                                                                                                                                                                                                                                                                                                                                                                                                                                                                                                                                                                                                                                                                                                                                                                                                                                                                                                                                                                                                                                                                                                                                                                                                                                                                                                                                                                                                                                                                                                                                                                                                                                                                                                                                                                                                                                                                                                                                                                                                                                                                                                                                                                                                                                                                                                                                                                                                                                                                                                                                                                                                                                                                                                                                                                                                                                                                                                                                                                                                                                                                                                                                                                                                                                                                                                                                                                                                                                                                                                                                                                                                                                                                                                                                                                                                                                                                                                                                                                                                                                                                                                                                                                                                                                                                                                                                                                                                                                                                                                                                                                                                                                                                                                                                                                                                                                                                                                                                                                                                                                                                                                                                                                                                                                                                                                                                                                                                                                                                                                                                                                                                                                                                                                                                                                                                                                                                                                                                                                                                                                                                                                                                                                                                                                                                                                                                                                                                                                                                                                                                                                                                                                                                                                                                                                                                                                                                                                                                                                                                                                                                                                                                                                                                                                                                                                                                                                                                                                                                                                                                                                                                                                                                                                                                                                                                                                                                                                                                                                                                                                                                                                                                                                                                                                                                                                                                                                                                                                                                                                                                                                                                                                                                                                                                                                                                                                                                                                                                                                                                                                                                                                                                                                                                                                                                                                                                                                                                                                                                                                                                                                                                                                                                                                                                                                                                                                                                                                                                                                                                                                                                                                                                                                                                                                                                                                                                                                                                                                                                                                                                                                                                                                                                                                                                                                                                                                                                                                                                                                                                                                                                                                                                                                                                                                                                                                                                                                                                                                                                                                                                                                                                                                                                                                                                                                                                                                                                                                                                                                                                                                                                                                                                                                                                                                                                                                                                                                                                                                                                                                                                                                                                                                                                                                                                                                                                                                                                                                                                                                                                                                                                                                                                                                                                                                                                                                                                                                                                                                                                                                                                                                                                                                                                                                                                                                                                                                                                                                                                                                                                                                                                                                                                                                                                                                                                                                                                                                                                                                                                                                                                                                                                                                                                                                                                                                                                                                                                                                                                                                                                                                                                                                                                                                                                                                                                                                                                                                                                                                                                                                                                                                                                                                                                                                                                                                                                                                                                                                                                                                                                                                                                                                                                                                                                                                                                                                                                                                                                                                                                                                                                                                                                                                                                                                                                                                                                                                                                                                                                                                                                                                                                                                                                                                                              \n",
    "df.describe().to_csv('DataDescribe.csv')\n",
    "df.head()"
   ]
  },
  {
   "cell_type": "code",
   "execution_count": 136,
   "metadata": {},
   "outputs": [
    {
     "data": {
      "text/plain": [
       "[1.155182833223434,\n",
       " 4.571117281976001,\n",
       " 4.892281027709437,\n",
       " 2.8554969869692526,\n",
       " 2.463642719870041,\n",
       " 6.844478066627561,\n",
       " 1.0539865231766223,\n",
       " 1.7230454100940018,\n",
       " 1.0434627057063184,\n",
       " 4.665594071301203,\n",
       " 1.618419774460485]"
      ]
     },
     "execution_count": 136,
     "metadata": {},
     "output_type": "execute_result"
    }
   ],
   "source": [
    "X = np.matrix(df)\n",
    "vif_lst = [variance_inflation_factor(X, i) for i in range(X.shape[1])]\n",
    "vif_lst"
   ]
  },
  {
   "cell_type": "code",
   "execution_count": 137,
   "metadata": {},
   "outputs": [
    {
     "data": {
      "image/png": "[encoded data removed]",
      "text/plain": [
       "<Figure size 1440x1440 with 2 Axes>"
      ]
     },
     "metadata": {
      "needs_background": "light"
     },
     "output_type": "display_data"
    }
   ],
   "source": [
    "import seaborn as sns\n",
    "import pandas as pd\n",
    "import matplotlib.pyplot as plt\n",
    "corr = df.corr()#计算各变量的相关性系数\n",
    "xticks = ['x0','x1','x2','x3','x4','x5','x6','x7','x8','x9','x10','x11','x12','x13','x14','x15','x16','x17','x18','x19','x20','x21']#x轴标签\n",
    "yticks = list(corr.index)#y轴标签\n",
    "fig, ax1 = plt.subplots(1,1,figsize=(20,20))\n",
    "#fig = plt.figure()\n",
    "#ax1 = fig.add_subplot(1, 1, 1)\n",
    "sns.heatmap(corr, annot=True, cmap='rainbow', ax=ax1, annot_kws={'size': 15, 'weight': 'bold', 'color': 'blue'})#绘制相关性系数热力图\n",
    "ax1.set_xticklabels(xticks, rotation=0, fontsize=23)\n",
    "ax1.set_yticklabels(yticks, rotation=0, fontsize=10)\n",
    "plt.savefig(\"C:/Users/Wu Ran/Desktop/model_9.png\")\n",
    "plt.show()"
   ]
  },
  {
   "cell_type": "code",
   "execution_count": 138,
   "metadata": {},
   "outputs": [
    {
     "data": {
      "text/html": [
       "<div>\n",
       "<style scoped>\n",
       "    .dataframe tbody tr th:only-of-type {\n",
       "        vertical-align: middle;\n",
       "    }\n",
       "\n",
       "    .dataframe tbody tr th {\n",
       "        vertical-align: top;\n",
       "    }\n",
       "\n",
       "    .dataframe thead th {\n",
       "        text-align: right;\n",
       "    }\n",
       "</style>\n",
       "<table border=\"1\" class=\"dataframe\">\n",
       "  <thead>\n",
       "    <tr style=\"text-align: right;\">\n",
       "      <th></th>\n",
       "      <th>variable</th>\n",
       "      <th>interval</th>\n",
       "      <th>flag_0</th>\n",
       "      <th>flag_1</th>\n",
       "    </tr>\n",
       "  </thead>\n",
       "  <tbody>\n",
       "    <tr>\n",
       "      <th>0</th>\n",
       "      <td>ali_score</td>\n",
       "      <td>0,10.69</td>\n",
       "      <td>125.0</td>\n",
       "      <td>7.0</td>\n",
       "    </tr>\n",
       "    <tr>\n",
       "      <th>1</th>\n",
       "      <td>ali_score</td>\n",
       "      <td>10.69,10.93</td>\n",
       "      <td>0.0</td>\n",
       "      <td>1.0</td>\n",
       "    </tr>\n",
       "    <tr>\n",
       "      <th>2</th>\n",
       "      <td>ali_score</td>\n",
       "      <td>10.93,17.89</td>\n",
       "      <td>64.0</td>\n",
       "      <td>3.0</td>\n",
       "    </tr>\n",
       "    <tr>\n",
       "      <th>3</th>\n",
       "      <td>ali_score</td>\n",
       "      <td>17.89,17.94</td>\n",
       "      <td>0.0</td>\n",
       "      <td>1.0</td>\n",
       "    </tr>\n",
       "    <tr>\n",
       "      <th>4</th>\n",
       "      <td>ali_score</td>\n",
       "      <td>17.94,21.14</td>\n",
       "      <td>36.0</td>\n",
       "      <td>0.0</td>\n",
       "    </tr>\n",
       "    <tr>\n",
       "      <th>5</th>\n",
       "      <td>ali_score</td>\n",
       "      <td>21.14,21.17</td>\n",
       "      <td>0.0</td>\n",
       "      <td>1.0</td>\n",
       "    </tr>\n",
       "    <tr>\n",
       "      <th>6</th>\n",
       "      <td>ali_score</td>\n",
       "      <td>21.17,25.14</td>\n",
       "      <td>52.0</td>\n",
       "      <td>3.0</td>\n",
       "    </tr>\n",
       "    <tr>\n",
       "      <th>7</th>\n",
       "      <td>ali_score</td>\n",
       "      <td>25.14,25.17</td>\n",
       "      <td>0.0</td>\n",
       "      <td>1.0</td>\n",
       "    </tr>\n",
       "    <tr>\n",
       "      <th>8</th>\n",
       "      <td>ali_score</td>\n",
       "      <td>25.17,35.13</td>\n",
       "      <td>164.0</td>\n",
       "      <td>6.0</td>\n",
       "    </tr>\n",
       "    <tr>\n",
       "      <th>9</th>\n",
       "      <td>ali_score</td>\n",
       "      <td>35.13+</td>\n",
       "      <td>1417.0</td>\n",
       "      <td>217.0</td>\n",
       "    </tr>\n",
       "  </tbody>\n",
       "</table>\n",
       "</div>"
      ],
      "text/plain": [
       "    variable     interval  flag_0  flag_1\n",
       "0  ali_score      0,10.69   125.0     7.0\n",
       "1  ali_score  10.69,10.93     0.0     1.0\n",
       "2  ali_score  10.93,17.89    64.0     3.0\n",
       "3  ali_score  17.89,17.94     0.0     1.0\n",
       "4  ali_score  17.94,21.14    36.0     0.0\n",
       "5  ali_score  21.14,21.17     0.0     1.0\n",
       "6  ali_score  21.17,25.14    52.0     3.0\n",
       "7  ali_score  25.14,25.17     0.0     1.0\n",
       "8  ali_score  25.17,35.13   164.0     6.0\n",
       "9  ali_score       35.13+  1417.0   217.0"
      ]
     },
     "execution_count": 138,
     "metadata": {},
     "output_type": "execute_result"
    }
   ],
   "source": [
    "# -*- coding: utf-8 -*-\n",
    "\n",
    "def ChiMerge(df,variable,flag,confidenceVal=3.841,bin=10,sample=None):  \n",
    "    '''\n",
    "    param df:DataFrame| 必须包含标签列\n",
    "    param variable:str| 需要卡方分箱的变量名称（字符串）\n",
    "    param flag:str    | 正负样本标识的名称（字符串）\n",
    "    param confidenceVal:float| 置信度水平（默认是不进行抽样95%）\n",
    "    param bin：int            | 最多箱的数目\n",
    "    param sample: int          | 为抽样的数目（默认是不进行抽样），因为如果观测值过多运行会较慢\n",
    "    note: 停止条件为大于置信水平且小于bin的数目\n",
    "    return :DataFrame|采样结果\n",
    "    '''    \n",
    "    import pandas as pd\n",
    "    import numpy as np\n",
    "    \n",
    "    \n",
    "    #进行是否抽样操作\n",
    "    if sample != None:\n",
    "        df = df.sample(n=sample)\n",
    "    else:\n",
    "        df   \n",
    "        \n",
    "    #进行数据格式化录入\n",
    "    total_num = df.groupby([variable])[flag].count()  #统计需分箱变量每个值数目\n",
    "    total_num = pd.DataFrame({'total_num': total_num})  #创建一个数据框保存之前的结果\n",
    "    positive_class = df.groupby([variable])[flag].sum()  #统计需分箱变量每个值正样本数\n",
    "    positive_class = pd.DataFrame({'positive_class': positive_class})  #创建一个数据框保存之前的结果\n",
    "    regroup = pd.merge(total_num, positive_class, left_index=True, right_index=True,\n",
    "                       how='inner')  # 组合total_num与positive_class\n",
    "    regroup.reset_index(inplace=True)\n",
    "    regroup['negative_class'] = regroup['total_num'] - regroup['positive_class']  #统计需分箱变量每个值负样本数\n",
    "    regroup = regroup.drop('total_num', axis=1)\n",
    "    np_regroup = np.array(regroup)  #把数据框转化为numpy（提高运行效率）\n",
    "    #print('已完成数据读入,正在计算数据初处理')\n",
    "\n",
    "    #处理连续没有正样本或负样本的区间，并进行区间的合并（以免卡方值计算报错）\n",
    "    i = 0\n",
    "    while (i <= np_regroup.shape[0] - 2):\n",
    "        if ((np_regroup[i, 1] == 0 and np_regroup[i + 1, 1] == 0) or ( np_regroup[i, 2] == 0 and np_regroup[i + 1, 2] == 0)):\n",
    "            np_regroup[i, 1] = np_regroup[i, 1] + np_regroup[i + 1, 1]  # 正样本\n",
    "            np_regroup[i, 2] = np_regroup[i, 2] + np_regroup[i + 1, 2]  # 负样本\n",
    "            np_regroup[i, 0] = np_regroup[i + 1, 0]\n",
    "            np_regroup = np.delete(np_regroup, i + 1, 0)\n",
    "            i = i - 1\n",
    "        i = i + 1\n",
    " \n",
    "    #对相邻两个区间进行卡方值计算\n",
    "    chi_table = np.array([])  # 创建一个数组保存相邻两个区间的卡方值\n",
    "    for i in np.arange(np_regroup.shape[0] - 1):\n",
    "        chi = (np_regroup[i, 1] * np_regroup[i + 1, 2] - np_regroup[i, 2] * np_regroup[i + 1, 1]) ** 2 \\\n",
    "          * (np_regroup[i, 1] + np_regroup[i, 2] + np_regroup[i + 1, 1] + np_regroup[i + 1, 2]) / \\\n",
    "          ((np_regroup[i, 1] + np_regroup[i, 2]) * (np_regroup[i + 1, 1] + np_regroup[i + 1, 2]) * (\n",
    "          np_regroup[i, 1] + np_regroup[i + 1, 1]) * (np_regroup[i, 2] + np_regroup[i + 1, 2]))\n",
    "        chi_table = np.append(chi_table, chi)\n",
    "    #print('已完成数据初处理，正在进行卡方分箱核心操作')\n",
    "\n",
    "    #把卡方值最小的两个区间进行合并（卡方分箱核心）\n",
    "    while (1):\n",
    "        if (len(chi_table) <= (bin - 1) and min(chi_table) >= confidenceVal):\n",
    "            break\n",
    "        chi_min_index = np.argwhere(chi_table == min(chi_table))[0]  # 找出卡方值最小的位置索引\n",
    "        np_regroup[chi_min_index, 1] = np_regroup[chi_min_index, 1] + np_regroup[chi_min_index + 1, 1]\n",
    "        np_regroup[chi_min_index, 2] = np_regroup[chi_min_index, 2] + np_regroup[chi_min_index + 1, 2]\n",
    "        np_regroup[chi_min_index, 0] = np_regroup[chi_min_index + 1, 0]\n",
    "        np_regroup = np.delete(np_regroup, chi_min_index + 1, 0)\n",
    "\n",
    "        if (chi_min_index == np_regroup.shape[0] - 1):  # 最小值试最后两个区间的时候\n",
    "            # 计算合并后当前区间与前一个区间的卡方值并替换\n",
    "            chi_table[chi_min_index - 1] = (np_regroup[chi_min_index - 1, 1] * np_regroup[chi_min_index, 2] - np_regroup[chi_min_index - 1, 2] * np_regroup[chi_min_index, 1]) ** 2 \\\n",
    "                                           * (np_regroup[chi_min_index - 1, 1] + np_regroup[chi_min_index - 1, 2] + np_regroup[chi_min_index, 1] + np_regroup[chi_min_index, 2]) / \\\n",
    "                                       ((np_regroup[chi_min_index - 1, 1] + np_regroup[chi_min_index - 1, 2]) * (np_regroup[chi_min_index, 1] + np_regroup[chi_min_index, 2]) * (np_regroup[chi_min_index - 1, 1] + np_regroup[chi_min_index, 1]) * (np_regroup[chi_min_index - 1, 2] + np_regroup[chi_min_index, 2]))\n",
    "            # 删除替换前的卡方值\n",
    "            chi_table = np.delete(chi_table, chi_min_index, axis=0)\n",
    "\n",
    "        else:\n",
    "            # 计算合并后当前区间与前一个区间的卡方值并替换\n",
    "            chi_table[chi_min_index - 1] = (np_regroup[chi_min_index - 1, 1] * np_regroup[chi_min_index, 2] - np_regroup[chi_min_index - 1, 2] * np_regroup[chi_min_index, 1]) ** 2 \\\n",
    "                                       * (np_regroup[chi_min_index - 1, 1] + np_regroup[chi_min_index - 1, 2] + np_regroup[chi_min_index, 1] + np_regroup[chi_min_index, 2]) / \\\n",
    "                                       ((np_regroup[chi_min_index - 1, 1] + np_regroup[chi_min_index - 1, 2]) * (np_regroup[chi_min_index, 1] + np_regroup[chi_min_index, 2]) * (np_regroup[chi_min_index - 1, 1] + np_regroup[chi_min_index, 1]) * (np_regroup[chi_min_index - 1, 2] + np_regroup[chi_min_index, 2]))\n",
    "            # 计算合并后当前区间与后一个区间的卡方值并替换\n",
    "            chi_table[chi_min_index] = (np_regroup[chi_min_index, 1] * np_regroup[chi_min_index + 1, 2] - np_regroup[chi_min_index, 2] * np_regroup[chi_min_index + 1, 1]) ** 2 \\\n",
    "                                       * (np_regroup[chi_min_index, 1] + np_regroup[chi_min_index, 2] + np_regroup[chi_min_index + 1, 1] + np_regroup[chi_min_index + 1, 2]) / \\\n",
    "                                   ((np_regroup[chi_min_index, 1] + np_regroup[chi_min_index, 2]) * (np_regroup[chi_min_index + 1, 1] + np_regroup[chi_min_index + 1, 2]) * (np_regroup[chi_min_index, 1] + np_regroup[chi_min_index + 1, 1]) * (np_regroup[chi_min_index, 2] + np_regroup[chi_min_index + 1, 2]))\n",
    "            # 删除替换前的卡方值\n",
    "            chi_table = np.delete(chi_table, chi_min_index + 1, axis=0)\n",
    "    #print('已完成卡方分箱核心操作，正在保存结果')\n",
    "\n",
    "    #把结果保存成一个数据框\n",
    "    result_data = pd.DataFrame()  # 创建一个保存结果的数据框\n",
    "    result_data['variable'] = [variable] * np_regroup.shape[0]  # 结果表第一列：变量名\n",
    "    list_temp = []\n",
    "    for i in np.arange(np_regroup.shape[0]):\n",
    "        if i == 0:\n",
    "            x = '0' + ',' + str(np_regroup[i, 0])\n",
    "        elif i == np_regroup.shape[0] - 1:\n",
    "            x = str(np_regroup[i - 1, 0]) + '+'\n",
    "        else:\n",
    "            x = str(np_regroup[i - 1, 0]) + ',' + str(np_regroup[i, 0])\n",
    "        list_temp.append(x)\n",
    "    result_data['interval'] = list_temp  #结果表第二列：区间\n",
    "    result_data['flag_0'] = np_regroup[:, 2]  # 结果表第三列：负样本数目\n",
    "    result_data['flag_1'] = np_regroup[:, 1]  # 结果表第四列：正样本数目\n",
    "\n",
    "    return result_data\n",
    "\n",
    "\n",
    "\n",
    "##############################测试#############################################\n",
    "from sklearn.model_selection import train_test_split\n",
    "import seaborn as sn\n",
    "import pandas as pd\n",
    "\n",
    "result_data1 = ChiMerge(df=df,variable=\"ali_score\",flag=\"y\",confidenceVal=1,bin=10,sample=None)\n",
    "result_data2 = ChiMerge(df=df,variable=\"be_query_cnt_12\",flag=\"y\",confidenceVal=1,bin=5,sample=None)\n",
    "result_data3 = ChiMerge(df=df,variable=\"credit_score\",flag=\"y\",confidenceVal=1,bin=5,sample=None)\n",
    "#result_data4 = ChiMerge(df=df,variable=\"buyingindex\",flag=\"y\",confidenceVal=1,bin=5,sample=None)\n",
    "#result_data5 = ChiMerge(df=df,variable=\"zc_credit_score\",flag=\"y\",confidenceVal=1,bin=5,sample=None)\n",
    "result_data6 = ChiMerge(df=df,variable=\"12_diff_month_sum_repay_remind_average_level\",flag=\"y\",confidenceVal=1,bin=5,sample=None)\n",
    "result_data7 = ChiMerge(df=df,variable=\"bai_score\",flag=\"y\",confidenceVal=1,bin=5,sample=None)\n",
    "#result_data8 = ChiMerge(df=df,variable=\"score\",flag=\"y\",confidenceVal=1,bin=5,sample=None)\n",
    "result_data9 = ChiMerge(df=df,variable=\"3m_apply_count_score\",flag=\"y\",confidenceVal=1,bin=9,sample=None)\n",
    "result_data10 = ChiMerge(df=df,variable=\"be_mean\",flag=\"y\",confidenceVal=1,bin=9,sample=None)\n",
    "#result_data11 = ChiMerge(df=df,variable=\"24_diff_month_sum_loan_offer_count\",flag=\"y\",confidenceVal=1,bin=4,sample=None)\n",
    "#result_data12 = ChiMerge(df=df,variable=\"m24_verif_sum\",flag=\"y\",confidenceVal=1,bin=5,sample=None)\n",
    "result_data13 = ChiMerge(df=df,variable=\"riskscore\",flag=\"y\",confidenceVal=1,bin=5,sample=None)\n",
    "result_data14 = ChiMerge(df=df,variable=\"pct_cnt_to_black\",flag=\"y\",confidenceVal=1,bin=5,sample=None)\n",
    "#result_data15 = ChiMerge(df=df,variable=\"zhuce_to_apply_time\",flag=\"y\",confidenceVal=1,bin=10,sample=None)\n",
    "result_data16 = ChiMerge(df=df,variable=\"riskcategoryconsuming\",flag=\"y\",confidenceVal=1,bin=5,sample=None)\n",
    "#result_data17 = ChiMerge(df=df,variable=\"avg_histroy_advance_day\",flag=\"y\",confidenceVal=1,bin=5,sample=None)\n",
    "#result_data18 = ChiMerge(df=df,variable=\"province\",flag=\"y\",confidenceVal=1,bin=5,sample=None)\n",
    "#result_data19 = ChiMerge(df=df,variable=\"mid_risk_mobile\",flag=\"y\",confidenceVal=1,bin=5,sample=None)\n",
    "#result_data20 = ChiMerge(df=df,variable=\"7d_night_login_cnt\",flag=\"y\",confidenceVal=1,bin=5,sample=None)\n",
    "#result_data21 = ChiMerge(df=df,variable=\"d7_valid_calls_cnt\",flag=\"y\",confidenceVal=1,bin=5,sample=None)\n",
    "#result_data22 = ChiMerge(df=df,variable=\"3m_apply_count_mobile\",flag=\"y\",confidenceVal=1,bin=5,sample=None)\n",
    "\n",
    "result_data1\n",
    "#result_data2"
   ]
  },
  {
   "cell_type": "code",
   "execution_count": 139,
   "metadata": {},
   "outputs": [
    {
     "data": {
      "text/html": [
       "<div>\n",
       "<style scoped>\n",
       "    .dataframe tbody tr th:only-of-type {\n",
       "        vertical-align: middle;\n",
       "    }\n",
       "\n",
       "    .dataframe tbody tr th {\n",
       "        vertical-align: top;\n",
       "    }\n",
       "\n",
       "    .dataframe thead th {\n",
       "        text-align: right;\n",
       "    }\n",
       "</style>\n",
       "<table border=\"1\" class=\"dataframe\">\n",
       "  <thead>\n",
       "    <tr style=\"text-align: right;\">\n",
       "      <th></th>\n",
       "      <th>variable</th>\n",
       "      <th>interval</th>\n",
       "      <th>flag_0</th>\n",
       "      <th>flag_1</th>\n",
       "    </tr>\n",
       "  </thead>\n",
       "  <tbody>\n",
       "    <tr>\n",
       "      <th>0</th>\n",
       "      <td>be_query_cnt_12</td>\n",
       "      <td>0,5</td>\n",
       "      <td>177</td>\n",
       "      <td>35</td>\n",
       "    </tr>\n",
       "    <tr>\n",
       "      <th>1</th>\n",
       "      <td>be_query_cnt_12</td>\n",
       "      <td>5,51</td>\n",
       "      <td>852</td>\n",
       "      <td>88</td>\n",
       "    </tr>\n",
       "    <tr>\n",
       "      <th>2</th>\n",
       "      <td>be_query_cnt_12</td>\n",
       "      <td>51,106</td>\n",
       "      <td>466</td>\n",
       "      <td>77</td>\n",
       "    </tr>\n",
       "    <tr>\n",
       "      <th>3</th>\n",
       "      <td>be_query_cnt_12</td>\n",
       "      <td>106,166</td>\n",
       "      <td>217</td>\n",
       "      <td>10</td>\n",
       "    </tr>\n",
       "    <tr>\n",
       "      <th>4</th>\n",
       "      <td>be_query_cnt_12</td>\n",
       "      <td>166+</td>\n",
       "      <td>146</td>\n",
       "      <td>30</td>\n",
       "    </tr>\n",
       "  </tbody>\n",
       "</table>\n",
       "</div>"
      ],
      "text/plain": [
       "          variable interval  flag_0  flag_1\n",
       "0  be_query_cnt_12      0,5     177      35\n",
       "1  be_query_cnt_12     5,51     852      88\n",
       "2  be_query_cnt_12   51,106     466      77\n",
       "3  be_query_cnt_12  106,166     217      10\n",
       "4  be_query_cnt_12     166+     146      30"
      ]
     },
     "execution_count": 139,
     "metadata": {},
     "output_type": "execute_result"
    }
   ],
   "source": [
    "result_data2"
   ]
  },
  {
   "cell_type": "code",
   "execution_count": 140,
   "metadata": {},
   "outputs": [
    {
     "data": {
      "text/html": [
       "<div>\n",
       "<style scoped>\n",
       "    .dataframe tbody tr th:only-of-type {\n",
       "        vertical-align: middle;\n",
       "    }\n",
       "\n",
       "    .dataframe tbody tr th {\n",
       "        vertical-align: top;\n",
       "    }\n",
       "\n",
       "    .dataframe thead th {\n",
       "        text-align: right;\n",
       "    }\n",
       "</style>\n",
       "<table border=\"1\" class=\"dataframe\">\n",
       "  <thead>\n",
       "    <tr style=\"text-align: right;\">\n",
       "      <th></th>\n",
       "      <th>variable</th>\n",
       "      <th>interval</th>\n",
       "      <th>flag_0</th>\n",
       "      <th>flag_1</th>\n",
       "    </tr>\n",
       "  </thead>\n",
       "  <tbody>\n",
       "    <tr>\n",
       "      <th>0</th>\n",
       "      <td>credit_score</td>\n",
       "      <td>0,542</td>\n",
       "      <td>172</td>\n",
       "      <td>33</td>\n",
       "    </tr>\n",
       "    <tr>\n",
       "      <th>1</th>\n",
       "      <td>credit_score</td>\n",
       "      <td>542,545</td>\n",
       "      <td>0</td>\n",
       "      <td>3</td>\n",
       "    </tr>\n",
       "    <tr>\n",
       "      <th>2</th>\n",
       "      <td>credit_score</td>\n",
       "      <td>545,626</td>\n",
       "      <td>169</td>\n",
       "      <td>37</td>\n",
       "    </tr>\n",
       "    <tr>\n",
       "      <th>3</th>\n",
       "      <td>credit_score</td>\n",
       "      <td>626+</td>\n",
       "      <td>1517</td>\n",
       "      <td>167</td>\n",
       "    </tr>\n",
       "  </tbody>\n",
       "</table>\n",
       "</div>"
      ],
      "text/plain": [
       "       variable interval  flag_0  flag_1\n",
       "0  credit_score    0,542     172      33\n",
       "1  credit_score  542,545       0       3\n",
       "2  credit_score  545,626     169      37\n",
       "3  credit_score     626+    1517     167"
      ]
     },
     "execution_count": 140,
     "metadata": {},
     "output_type": "execute_result"
    }
   ],
   "source": [
    "result_data3"
   ]
  },
  {
   "cell_type": "code",
   "execution_count": 141,
   "metadata": {},
   "outputs": [
    {
     "ename": "NameError",
     "evalue": "name 'result_data4' is not defined",
     "output_type": "error",
     "traceback": [
      "\u001b[1;31m---------------------------------------------------------------------------\u001b[0m",
      "\u001b[1;31mNameError\u001b[0m                                 Traceback (most recent call last)",
      "\u001b[1;32m<ipython-input-141-d4445aeef9c3>\u001b[0m in \u001b[0;36m<module>\u001b[1;34m\u001b[0m\n\u001b[1;32m----> 1\u001b[1;33m \u001b[0mresult_data4\u001b[0m\u001b[1;33m\u001b[0m\u001b[1;33m\u001b[0m\u001b[0m\n\u001b[0m",
      "\u001b[1;31mNameError\u001b[0m: name 'result_data4' is not defined"
     ]
    }
   ],
   "source": [
    "result_data4"
   ]
  },
  {
   "cell_type": "code",
   "execution_count": null,
   "metadata": {},
   "outputs": [],
   "source": [
    "result_data5"
   ]
  },
  {
   "cell_type": "code",
   "execution_count": 142,
   "metadata": {},
   "outputs": [
    {
     "data": {
      "text/html": [
       "<div>\n",
       "<style scoped>\n",
       "    .dataframe tbody tr th:only-of-type {\n",
       "        vertical-align: middle;\n",
       "    }\n",
       "\n",
       "    .dataframe tbody tr th {\n",
       "        vertical-align: top;\n",
       "    }\n",
       "\n",
       "    .dataframe thead th {\n",
       "        text-align: right;\n",
       "    }\n",
       "</style>\n",
       "<table border=\"1\" class=\"dataframe\">\n",
       "  <thead>\n",
       "    <tr style=\"text-align: right;\">\n",
       "      <th></th>\n",
       "      <th>variable</th>\n",
       "      <th>interval</th>\n",
       "      <th>flag_0</th>\n",
       "      <th>flag_1</th>\n",
       "    </tr>\n",
       "  </thead>\n",
       "  <tbody>\n",
       "    <tr>\n",
       "      <th>0</th>\n",
       "      <td>12_diff_month_sum_repay_remind_average_level</td>\n",
       "      <td>0,2</td>\n",
       "      <td>1391</td>\n",
       "      <td>208</td>\n",
       "    </tr>\n",
       "    <tr>\n",
       "      <th>1</th>\n",
       "      <td>12_diff_month_sum_repay_remind_average_level</td>\n",
       "      <td>2,3</td>\n",
       "      <td>182</td>\n",
       "      <td>12</td>\n",
       "    </tr>\n",
       "    <tr>\n",
       "      <th>2</th>\n",
       "      <td>12_diff_month_sum_repay_remind_average_level</td>\n",
       "      <td>3,4</td>\n",
       "      <td>85</td>\n",
       "      <td>1</td>\n",
       "    </tr>\n",
       "    <tr>\n",
       "      <th>3</th>\n",
       "      <td>12_diff_month_sum_repay_remind_average_level</td>\n",
       "      <td>4+</td>\n",
       "      <td>200</td>\n",
       "      <td>19</td>\n",
       "    </tr>\n",
       "  </tbody>\n",
       "</table>\n",
       "</div>"
      ],
      "text/plain": [
       "                                       variable interval  flag_0  flag_1\n",
       "0  12_diff_month_sum_repay_remind_average_level      0,2    1391     208\n",
       "1  12_diff_month_sum_repay_remind_average_level      2,3     182      12\n",
       "2  12_diff_month_sum_repay_remind_average_level      3,4      85       1\n",
       "3  12_diff_month_sum_repay_remind_average_level       4+     200      19"
      ]
     },
     "execution_count": 142,
     "metadata": {},
     "output_type": "execute_result"
    }
   ],
   "source": [
    "result_data6"
   ]
  },
  {
   "cell_type": "code",
   "execution_count": 143,
   "metadata": {},
   "outputs": [
    {
     "data": {
      "text/html": [
       "<div>\n",
       "<style scoped>\n",
       "    .dataframe tbody tr th:only-of-type {\n",
       "        vertical-align: middle;\n",
       "    }\n",
       "\n",
       "    .dataframe tbody tr th {\n",
       "        vertical-align: top;\n",
       "    }\n",
       "\n",
       "    .dataframe thead th {\n",
       "        text-align: right;\n",
       "    }\n",
       "</style>\n",
       "<table border=\"1\" class=\"dataframe\">\n",
       "  <thead>\n",
       "    <tr style=\"text-align: right;\">\n",
       "      <th></th>\n",
       "      <th>variable</th>\n",
       "      <th>interval</th>\n",
       "      <th>flag_0</th>\n",
       "      <th>flag_1</th>\n",
       "    </tr>\n",
       "  </thead>\n",
       "  <tbody>\n",
       "    <tr>\n",
       "      <th>0</th>\n",
       "      <td>bai_score</td>\n",
       "      <td>0,81.9</td>\n",
       "      <td>1494.0</td>\n",
       "      <td>216.0</td>\n",
       "    </tr>\n",
       "    <tr>\n",
       "      <th>1</th>\n",
       "      <td>bai_score</td>\n",
       "      <td>81.9,82.4</td>\n",
       "      <td>7.0</td>\n",
       "      <td>5.0</td>\n",
       "    </tr>\n",
       "    <tr>\n",
       "      <th>2</th>\n",
       "      <td>bai_score</td>\n",
       "      <td>82.4,84.1</td>\n",
       "      <td>64.0</td>\n",
       "      <td>2.0</td>\n",
       "    </tr>\n",
       "    <tr>\n",
       "      <th>3</th>\n",
       "      <td>bai_score</td>\n",
       "      <td>84.1,84.2</td>\n",
       "      <td>0.0</td>\n",
       "      <td>1.0</td>\n",
       "    </tr>\n",
       "    <tr>\n",
       "      <th>4</th>\n",
       "      <td>bai_score</td>\n",
       "      <td>84.2+</td>\n",
       "      <td>293.0</td>\n",
       "      <td>16.0</td>\n",
       "    </tr>\n",
       "  </tbody>\n",
       "</table>\n",
       "</div>"
      ],
      "text/plain": [
       "    variable   interval  flag_0  flag_1\n",
       "0  bai_score     0,81.9  1494.0   216.0\n",
       "1  bai_score  81.9,82.4     7.0     5.0\n",
       "2  bai_score  82.4,84.1    64.0     2.0\n",
       "3  bai_score  84.1,84.2     0.0     1.0\n",
       "4  bai_score      84.2+   293.0    16.0"
      ]
     },
     "execution_count": 143,
     "metadata": {},
     "output_type": "execute_result"
    }
   ],
   "source": [
    "result_data7"
   ]
  },
  {
   "cell_type": "code",
   "execution_count": 144,
   "metadata": {},
   "outputs": [
    {
     "ename": "NameError",
     "evalue": "name 'result_data8' is not defined",
     "output_type": "error",
     "traceback": [
      "\u001b[1;31m---------------------------------------------------------------------------\u001b[0m",
      "\u001b[1;31mNameError\u001b[0m                                 Traceback (most recent call last)",
      "\u001b[1;32m<ipython-input-144-d7c7f7a10b10>\u001b[0m in \u001b[0;36m<module>\u001b[1;34m\u001b[0m\n\u001b[1;32m----> 1\u001b[1;33m \u001b[0mresult_data8\u001b[0m\u001b[1;33m\u001b[0m\u001b[1;33m\u001b[0m\u001b[0m\n\u001b[0m",
      "\u001b[1;31mNameError\u001b[0m: name 'result_data8' is not defined"
     ]
    }
   ],
   "source": [
    "result_data8"
   ]
  },
  {
   "cell_type": "code",
   "execution_count": 145,
   "metadata": {},
   "outputs": [
    {
     "data": {
      "text/html": [
       "<div>\n",
       "<style scoped>\n",
       "    .dataframe tbody tr th:only-of-type {\n",
       "        vertical-align: middle;\n",
       "    }\n",
       "\n",
       "    .dataframe tbody tr th {\n",
       "        vertical-align: top;\n",
       "    }\n",
       "\n",
       "    .dataframe thead th {\n",
       "        text-align: right;\n",
       "    }\n",
       "</style>\n",
       "<table border=\"1\" class=\"dataframe\">\n",
       "  <thead>\n",
       "    <tr style=\"text-align: right;\">\n",
       "      <th></th>\n",
       "      <th>variable</th>\n",
       "      <th>interval</th>\n",
       "      <th>flag_0</th>\n",
       "      <th>flag_1</th>\n",
       "    </tr>\n",
       "  </thead>\n",
       "  <tbody>\n",
       "    <tr>\n",
       "      <th>0</th>\n",
       "      <td>3m_apply_count_score</td>\n",
       "      <td>0,2</td>\n",
       "      <td>465</td>\n",
       "      <td>94</td>\n",
       "    </tr>\n",
       "    <tr>\n",
       "      <th>1</th>\n",
       "      <td>3m_apply_count_score</td>\n",
       "      <td>2,5</td>\n",
       "      <td>489</td>\n",
       "      <td>51</td>\n",
       "    </tr>\n",
       "    <tr>\n",
       "      <th>2</th>\n",
       "      <td>3m_apply_count_score</td>\n",
       "      <td>5,7</td>\n",
       "      <td>277</td>\n",
       "      <td>19</td>\n",
       "    </tr>\n",
       "    <tr>\n",
       "      <th>3</th>\n",
       "      <td>3m_apply_count_score</td>\n",
       "      <td>7,12</td>\n",
       "      <td>444</td>\n",
       "      <td>47</td>\n",
       "    </tr>\n",
       "    <tr>\n",
       "      <th>4</th>\n",
       "      <td>3m_apply_count_score</td>\n",
       "      <td>12,13</td>\n",
       "      <td>48</td>\n",
       "      <td>1</td>\n",
       "    </tr>\n",
       "    <tr>\n",
       "      <th>5</th>\n",
       "      <td>3m_apply_count_score</td>\n",
       "      <td>13,19</td>\n",
       "      <td>116</td>\n",
       "      <td>21</td>\n",
       "    </tr>\n",
       "    <tr>\n",
       "      <th>6</th>\n",
       "      <td>3m_apply_count_score</td>\n",
       "      <td>19,20</td>\n",
       "      <td>6</td>\n",
       "      <td>4</td>\n",
       "    </tr>\n",
       "    <tr>\n",
       "      <th>7</th>\n",
       "      <td>3m_apply_count_score</td>\n",
       "      <td>20,22</td>\n",
       "      <td>13</td>\n",
       "      <td>0</td>\n",
       "    </tr>\n",
       "    <tr>\n",
       "      <th>8</th>\n",
       "      <td>3m_apply_count_score</td>\n",
       "      <td>22+</td>\n",
       "      <td>0</td>\n",
       "      <td>3</td>\n",
       "    </tr>\n",
       "  </tbody>\n",
       "</table>\n",
       "</div>"
      ],
      "text/plain": [
       "               variable interval  flag_0  flag_1\n",
       "0  3m_apply_count_score      0,2     465      94\n",
       "1  3m_apply_count_score      2,5     489      51\n",
       "2  3m_apply_count_score      5,7     277      19\n",
       "3  3m_apply_count_score     7,12     444      47\n",
       "4  3m_apply_count_score    12,13      48       1\n",
       "5  3m_apply_count_score    13,19     116      21\n",
       "6  3m_apply_count_score    19,20       6       4\n",
       "7  3m_apply_count_score    20,22      13       0\n",
       "8  3m_apply_count_score      22+       0       3"
      ]
     },
     "execution_count": 145,
     "metadata": {},
     "output_type": "execute_result"
    }
   ],
   "source": [
    "result_data9"
   ]
  },
  {
   "cell_type": "code",
   "execution_count": 146,
   "metadata": {},
   "outputs": [
    {
     "data": {
      "text/html": [
       "<div>\n",
       "<style scoped>\n",
       "    .dataframe tbody tr th:only-of-type {\n",
       "        vertical-align: middle;\n",
       "    }\n",
       "\n",
       "    .dataframe tbody tr th {\n",
       "        vertical-align: top;\n",
       "    }\n",
       "\n",
       "    .dataframe thead th {\n",
       "        text-align: right;\n",
       "    }\n",
       "</style>\n",
       "<table border=\"1\" class=\"dataframe\">\n",
       "  <thead>\n",
       "    <tr style=\"text-align: right;\">\n",
       "      <th></th>\n",
       "      <th>variable</th>\n",
       "      <th>interval</th>\n",
       "      <th>flag_0</th>\n",
       "      <th>flag_1</th>\n",
       "    </tr>\n",
       "  </thead>\n",
       "  <tbody>\n",
       "    <tr>\n",
       "      <th>0</th>\n",
       "      <td>be_mean</td>\n",
       "      <td>0,39.16</td>\n",
       "      <td>560.0</td>\n",
       "      <td>88.0</td>\n",
       "    </tr>\n",
       "    <tr>\n",
       "      <th>1</th>\n",
       "      <td>be_mean</td>\n",
       "      <td>39.16,39.18</td>\n",
       "      <td>0.0</td>\n",
       "      <td>2.0</td>\n",
       "    </tr>\n",
       "    <tr>\n",
       "      <th>2</th>\n",
       "      <td>be_mean</td>\n",
       "      <td>39.18,45.21</td>\n",
       "      <td>375.0</td>\n",
       "      <td>53.0</td>\n",
       "    </tr>\n",
       "    <tr>\n",
       "      <th>3</th>\n",
       "      <td>be_mean</td>\n",
       "      <td>45.21,45.27</td>\n",
       "      <td>3.0</td>\n",
       "      <td>4.0</td>\n",
       "    </tr>\n",
       "    <tr>\n",
       "      <th>4</th>\n",
       "      <td>be_mean</td>\n",
       "      <td>45.27,46.38</td>\n",
       "      <td>120.0</td>\n",
       "      <td>9.0</td>\n",
       "    </tr>\n",
       "    <tr>\n",
       "      <th>5</th>\n",
       "      <td>be_mean</td>\n",
       "      <td>46.38,46.39</td>\n",
       "      <td>0.0</td>\n",
       "      <td>2.0</td>\n",
       "    </tr>\n",
       "    <tr>\n",
       "      <th>6</th>\n",
       "      <td>be_mean</td>\n",
       "      <td>46.39,46.64</td>\n",
       "      <td>31.0</td>\n",
       "      <td>1.0</td>\n",
       "    </tr>\n",
       "    <tr>\n",
       "      <th>7</th>\n",
       "      <td>be_mean</td>\n",
       "      <td>46.64,46.66</td>\n",
       "      <td>0.0</td>\n",
       "      <td>2.0</td>\n",
       "    </tr>\n",
       "    <tr>\n",
       "      <th>8</th>\n",
       "      <td>be_mean</td>\n",
       "      <td>46.66+</td>\n",
       "      <td>769.0</td>\n",
       "      <td>79.0</td>\n",
       "    </tr>\n",
       "  </tbody>\n",
       "</table>\n",
       "</div>"
      ],
      "text/plain": [
       "  variable     interval  flag_0  flag_1\n",
       "0  be_mean      0,39.16   560.0    88.0\n",
       "1  be_mean  39.16,39.18     0.0     2.0\n",
       "2  be_mean  39.18,45.21   375.0    53.0\n",
       "3  be_mean  45.21,45.27     3.0     4.0\n",
       "4  be_mean  45.27,46.38   120.0     9.0\n",
       "5  be_mean  46.38,46.39     0.0     2.0\n",
       "6  be_mean  46.39,46.64    31.0     1.0\n",
       "7  be_mean  46.64,46.66     0.0     2.0\n",
       "8  be_mean       46.66+   769.0    79.0"
      ]
     },
     "execution_count": 146,
     "metadata": {},
     "output_type": "execute_result"
    }
   ],
   "source": [
    "result_data10"
   ]
  },
  {
   "cell_type": "code",
   "execution_count": 147,
   "metadata": {},
   "outputs": [
    {
     "ename": "NameError",
     "evalue": "name 'result_data11' is not defined",
     "output_type": "error",
     "traceback": [
      "\u001b[1;31m---------------------------------------------------------------------------\u001b[0m",
      "\u001b[1;31mNameError\u001b[0m                                 Traceback (most recent call last)",
      "\u001b[1;32m<ipython-input-147-21c49d28fec0>\u001b[0m in \u001b[0;36m<module>\u001b[1;34m\u001b[0m\n\u001b[1;32m----> 1\u001b[1;33m \u001b[0mresult_data11\u001b[0m\u001b[1;33m\u001b[0m\u001b[1;33m\u001b[0m\u001b[0m\n\u001b[0m",
      "\u001b[1;31mNameError\u001b[0m: name 'result_data11' is not defined"
     ]
    }
   ],
   "source": [
    "result_data11"
   ]
  },
  {
   "cell_type": "code",
   "execution_count": 148,
   "metadata": {},
   "outputs": [
    {
     "ename": "NameError",
     "evalue": "name 'result_data12' is not defined",
     "output_type": "error",
     "traceback": [
      "\u001b[1;31m---------------------------------------------------------------------------\u001b[0m",
      "\u001b[1;31mNameError\u001b[0m                                 Traceback (most recent call last)",
      "\u001b[1;32m<ipython-input-148-6461dc579486>\u001b[0m in \u001b[0;36m<module>\u001b[1;34m\u001b[0m\n\u001b[1;32m----> 1\u001b[1;33m \u001b[0mresult_data12\u001b[0m\u001b[1;33m\u001b[0m\u001b[1;33m\u001b[0m\u001b[0m\n\u001b[0m",
      "\u001b[1;31mNameError\u001b[0m: name 'result_data12' is not defined"
     ]
    }
   ],
   "source": [
    "result_data12"
   ]
  },
  {
   "cell_type": "code",
   "execution_count": 149,
   "metadata": {},
   "outputs": [
    {
     "data": {
      "text/html": [
       "<div>\n",
       "<style scoped>\n",
       "    .dataframe tbody tr th:only-of-type {\n",
       "        vertical-align: middle;\n",
       "    }\n",
       "\n",
       "    .dataframe tbody tr th {\n",
       "        vertical-align: top;\n",
       "    }\n",
       "\n",
       "    .dataframe thead th {\n",
       "        text-align: right;\n",
       "    }\n",
       "</style>\n",
       "<table border=\"1\" class=\"dataframe\">\n",
       "  <thead>\n",
       "    <tr style=\"text-align: right;\">\n",
       "      <th></th>\n",
       "      <th>variable</th>\n",
       "      <th>interval</th>\n",
       "      <th>flag_0</th>\n",
       "      <th>flag_1</th>\n",
       "    </tr>\n",
       "  </thead>\n",
       "  <tbody>\n",
       "    <tr>\n",
       "      <th>0</th>\n",
       "      <td>riskscore</td>\n",
       "      <td>0,-999</td>\n",
       "      <td>53</td>\n",
       "      <td>14</td>\n",
       "    </tr>\n",
       "    <tr>\n",
       "      <th>1</th>\n",
       "      <td>riskscore</td>\n",
       "      <td>-999,71</td>\n",
       "      <td>1315</td>\n",
       "      <td>147</td>\n",
       "    </tr>\n",
       "    <tr>\n",
       "      <th>2</th>\n",
       "      <td>riskscore</td>\n",
       "      <td>71,75</td>\n",
       "      <td>156</td>\n",
       "      <td>30</td>\n",
       "    </tr>\n",
       "    <tr>\n",
       "      <th>3</th>\n",
       "      <td>riskscore</td>\n",
       "      <td>75,80</td>\n",
       "      <td>173</td>\n",
       "      <td>12</td>\n",
       "    </tr>\n",
       "    <tr>\n",
       "      <th>4</th>\n",
       "      <td>riskscore</td>\n",
       "      <td>80+</td>\n",
       "      <td>161</td>\n",
       "      <td>37</td>\n",
       "    </tr>\n",
       "  </tbody>\n",
       "</table>\n",
       "</div>"
      ],
      "text/plain": [
       "    variable interval  flag_0  flag_1\n",
       "0  riskscore   0,-999      53      14\n",
       "1  riskscore  -999,71    1315     147\n",
       "2  riskscore    71,75     156      30\n",
       "3  riskscore    75,80     173      12\n",
       "4  riskscore      80+     161      37"
      ]
     },
     "execution_count": 149,
     "metadata": {},
     "output_type": "execute_result"
    }
   ],
   "source": [
    "result_data13"
   ]
  },
  {
   "cell_type": "code",
   "execution_count": 150,
   "metadata": {},
   "outputs": [
    {
     "data": {
      "text/html": [
       "<div>\n",
       "<style scoped>\n",
       "    .dataframe tbody tr th:only-of-type {\n",
       "        vertical-align: middle;\n",
       "    }\n",
       "\n",
       "    .dataframe tbody tr th {\n",
       "        vertical-align: top;\n",
       "    }\n",
       "\n",
       "    .dataframe thead th {\n",
       "        text-align: right;\n",
       "    }\n",
       "</style>\n",
       "<table border=\"1\" class=\"dataframe\">\n",
       "  <thead>\n",
       "    <tr style=\"text-align: right;\">\n",
       "      <th></th>\n",
       "      <th>variable</th>\n",
       "      <th>interval</th>\n",
       "      <th>flag_0</th>\n",
       "      <th>flag_1</th>\n",
       "    </tr>\n",
       "  </thead>\n",
       "  <tbody>\n",
       "    <tr>\n",
       "      <th>0</th>\n",
       "      <td>pct_cnt_to_black</td>\n",
       "      <td>0,0.73736346</td>\n",
       "      <td>256.0</td>\n",
       "      <td>44.0</td>\n",
       "    </tr>\n",
       "    <tr>\n",
       "      <th>1</th>\n",
       "      <td>pct_cnt_to_black</td>\n",
       "      <td>0.73736346,0.7558161</td>\n",
       "      <td>756.0</td>\n",
       "      <td>76.0</td>\n",
       "    </tr>\n",
       "    <tr>\n",
       "      <th>2</th>\n",
       "      <td>pct_cnt_to_black</td>\n",
       "      <td>0.7558161,0.91063327</td>\n",
       "      <td>19.0</td>\n",
       "      <td>8.0</td>\n",
       "    </tr>\n",
       "    <tr>\n",
       "      <th>3</th>\n",
       "      <td>pct_cnt_to_black</td>\n",
       "      <td>0.91063327,0.9642354</td>\n",
       "      <td>731.0</td>\n",
       "      <td>91.0</td>\n",
       "    </tr>\n",
       "    <tr>\n",
       "      <th>4</th>\n",
       "      <td>pct_cnt_to_black</td>\n",
       "      <td>0.9642354+</td>\n",
       "      <td>96.0</td>\n",
       "      <td>21.0</td>\n",
       "    </tr>\n",
       "  </tbody>\n",
       "</table>\n",
       "</div>"
      ],
      "text/plain": [
       "           variable              interval  flag_0  flag_1\n",
       "0  pct_cnt_to_black          0,0.73736346   256.0    44.0\n",
       "1  pct_cnt_to_black  0.73736346,0.7558161   756.0    76.0\n",
       "2  pct_cnt_to_black  0.7558161,0.91063327    19.0     8.0\n",
       "3  pct_cnt_to_black  0.91063327,0.9642354   731.0    91.0\n",
       "4  pct_cnt_to_black            0.9642354+    96.0    21.0"
      ]
     },
     "execution_count": 150,
     "metadata": {},
     "output_type": "execute_result"
    }
   ],
   "source": [
    "result_data14"
   ]
  },
  {
   "cell_type": "code",
   "execution_count": 151,
   "metadata": {},
   "outputs": [
    {
     "ename": "NameError",
     "evalue": "name 'result_data15' is not defined",
     "output_type": "error",
     "traceback": [
      "\u001b[1;31m---------------------------------------------------------------------------\u001b[0m",
      "\u001b[1;31mNameError\u001b[0m                                 Traceback (most recent call last)",
      "\u001b[1;32m<ipython-input-151-7e5870b9c2f5>\u001b[0m in \u001b[0;36m<module>\u001b[1;34m\u001b[0m\n\u001b[1;32m----> 1\u001b[1;33m \u001b[0mresult_data15\u001b[0m\u001b[1;33m\u001b[0m\u001b[1;33m\u001b[0m\u001b[0m\n\u001b[0m",
      "\u001b[1;31mNameError\u001b[0m: name 'result_data15' is not defined"
     ]
    }
   ],
   "source": [
    "result_data15"
   ]
  },
  {
   "cell_type": "code",
   "execution_count": 152,
   "metadata": {},
   "outputs": [
    {
     "data": {
      "text/html": [
       "<div>\n",
       "<style scoped>\n",
       "    .dataframe tbody tr th:only-of-type {\n",
       "        vertical-align: middle;\n",
       "    }\n",
       "\n",
       "    .dataframe tbody tr th {\n",
       "        vertical-align: top;\n",
       "    }\n",
       "\n",
       "    .dataframe thead th {\n",
       "        text-align: right;\n",
       "    }\n",
       "</style>\n",
       "<table border=\"1\" class=\"dataframe\">\n",
       "  <thead>\n",
       "    <tr style=\"text-align: right;\">\n",
       "      <th></th>\n",
       "      <th>variable</th>\n",
       "      <th>interval</th>\n",
       "      <th>flag_0</th>\n",
       "      <th>flag_1</th>\n",
       "    </tr>\n",
       "  </thead>\n",
       "  <tbody>\n",
       "    <tr>\n",
       "      <th>0</th>\n",
       "      <td>riskcategoryconsuming</td>\n",
       "      <td>0,11.08</td>\n",
       "      <td>1308.0</td>\n",
       "      <td>187.0</td>\n",
       "    </tr>\n",
       "    <tr>\n",
       "      <th>1</th>\n",
       "      <td>riskcategoryconsuming</td>\n",
       "      <td>11.08,31.17</td>\n",
       "      <td>145.0</td>\n",
       "      <td>5.0</td>\n",
       "    </tr>\n",
       "    <tr>\n",
       "      <th>2</th>\n",
       "      <td>riskcategoryconsuming</td>\n",
       "      <td>31.17,31.36</td>\n",
       "      <td>0.0</td>\n",
       "      <td>1.0</td>\n",
       "    </tr>\n",
       "    <tr>\n",
       "      <th>3</th>\n",
       "      <td>riskcategoryconsuming</td>\n",
       "      <td>31.36,32.48</td>\n",
       "      <td>13.0</td>\n",
       "      <td>0.0</td>\n",
       "    </tr>\n",
       "    <tr>\n",
       "      <th>4</th>\n",
       "      <td>riskcategoryconsuming</td>\n",
       "      <td>32.48+</td>\n",
       "      <td>392.0</td>\n",
       "      <td>47.0</td>\n",
       "    </tr>\n",
       "  </tbody>\n",
       "</table>\n",
       "</div>"
      ],
      "text/plain": [
       "                variable     interval  flag_0  flag_1\n",
       "0  riskcategoryconsuming      0,11.08  1308.0   187.0\n",
       "1  riskcategoryconsuming  11.08,31.17   145.0     5.0\n",
       "2  riskcategoryconsuming  31.17,31.36     0.0     1.0\n",
       "3  riskcategoryconsuming  31.36,32.48    13.0     0.0\n",
       "4  riskcategoryconsuming       32.48+   392.0    47.0"
      ]
     },
     "execution_count": 152,
     "metadata": {},
     "output_type": "execute_result"
    }
   ],
   "source": [
    "result_data16"
   ]
  },
  {
   "cell_type": "code",
   "execution_count": 155,
   "metadata": {},
   "outputs": [
    {
     "data": {
      "text/plain": [
       "(                   min    max  sum  total      rate       woe  goodattribute  \\\n",
       " Bucket                                                                         \n",
       " (-inf, 34.96]  -999.00  34.96   23    461  0.049892 -0.900108       0.095833   \n",
       " (34.96, 62.18]   35.00  62.18   66    600  0.110000 -0.044124       0.275000   \n",
       " (62.18, 70.54]   62.25  70.54   33    261  0.126437  0.113779       0.137500   \n",
       " (70.54, 89.21]   70.56  89.21   69    539  0.128015  0.127991       0.287500   \n",
       " (89.21, inf]     89.23  99.97   49    237  0.206751  0.701995       0.204167   \n",
       " \n",
       "                 badattribute  \n",
       " Bucket                        \n",
       " (-inf, 34.96]       0.235737  \n",
       " (34.96, 62.18]      0.287406  \n",
       " (62.18, 70.54]      0.122713  \n",
       " (70.54, 89.21]      0.252960  \n",
       " (89.21, inf]        0.101184  ,\n",
       " 0.20487265799189242,\n",
       " [-0.9, -0.044, 0.114, 0.128, 0.702])"
      ]
     },
     "execution_count": 155,
     "metadata": {},
     "output_type": "execute_result"
    }
   ],
   "source": [
    "import pandas as pd\n",
    "import numpy as np\n",
    "\n",
    "def self_bin(Y,X,cat):#自定义人工分箱函数\n",
    "    good=Y.sum()   #好用户数量\n",
    "    bad=Y.count()-good   # 坏用户数量\n",
    "    d1=pd.DataFrame({'X':X,'Y':Y,'Bucket':pd.cut(X,cat)}) #建立个数据框 X-- 各个特征变量 ， Y--用户好坏标签 ， Bucket--各个分箱\n",
    "    d2=d1.groupby('Bucket', as_index = True)     #  按分箱分组聚合 ，并且社会为 Index\n",
    "    d3 = pd.DataFrame(d2.X.min(), columns=['min'])  #  添加 min 列 ,不用管里面的 d2.X.min()\n",
    "    d3['min'] = d2.min().X    #求每个箱段内 X 比如 家庭人数的最小值\n",
    "    d3['max'] = d2.max().X    #求每个箱段内 X 比如 家庭人数的最大值\n",
    "    d3['sum'] = d2.sum().Y    #求每个箱段内 Y 好客户的个数\n",
    "    d3['total'] = d2.count().Y  #求每个箱段内  总共客户数\n",
    "    d3['rate'] = d2.mean().Y    # 好客户率\n",
    "    #WOE的全称是“Weight of Evidence”，即证据权重。WOE是对原始自变量的一种编码形式。是为了 计算 iv 准备的\n",
    "    #要对一个变量进行WOE编码，需要首先把这个变量进行分组处理（也叫离散化、分箱等等，说的都是一个意思）\n",
    "    d3['woe'] = np.log((d3['rate'] / (1 - d3['rate'])) / (good / bad))   \n",
    "    d3['goodattribute'] = d3['sum'] / good     # 每个箱段内 好用户 占 总好用户数  的 比率\n",
    "    d3['badattribute'] = (d3['total'] - d3['sum']) / bad  # 每个箱段内 坏用户 占 总坏用户数 的 比率\n",
    "    #IV的全称是Information Value，中文意思是信息价值，或者信息量。  通俗的说 就是 变量的预测能力\n",
    "    iv = ((d3['goodattribute'] - d3['badattribute']) * d3['woe']).sum()\n",
    "    d4 = (d3.sort_values(by='min'))   #数据框 的 按 min 升序排列\n",
    "    woe = list(d4['woe'].round(3))\n",
    "    return d4, iv,woe\n",
    "#对他们就行分箱处理：\n",
    "\n",
    "ninf=float('-inf')\n",
    "pinf=float('inf')\n",
    "cutx1=[ninf, 34.96, 62.18,70.54, 89.21, pinf]\n",
    "cutx2 = [ninf, 5, 51, 106,166,  pinf]\n",
    "cutx3 = [ninf, -1,543,684,774, pinf]\n",
    "cutx4 = [ninf, 60,90, pinf]\n",
    "cutx5 = [ninf, 477, 601, pinf]\n",
    "cutx6 = [ninf,  -1, 2, 3, 4, pinf]\n",
    "cutx7 = [ninf,  82.4,  pinf]\n",
    "cutx8 = [ninf, 599.53,623.05,  pinf]\n",
    "cutx9 = [ninf, 5, 19, pinf]\n",
    "cutx10 = [ninf, 12.27, 38.98, 45.89, 48.7, pinf]\n",
    "cutx11 = [ninf, 12, pinf]\n",
    "cutx12 = [ninf, 39, pinf]\n",
    "cutx13 = [ninf, 29, 53, 71, 91, pinf]\n",
    "cutx14 = [ninf, 0.73736346, 0.7558161, 0.9642354, pinf]\n",
    "cutx15 = [ninf,  34, 158, pinf]\n",
    "cutx16 = [ninf,  -1, 9.07, 27.76, 47.85,pinf]\n",
    "cutx17 = [ninf,  4.835714286, pinf]\n",
    "cutx18 = [ninf,  1, 2, 3, pinf]\n",
    "cutx19 = [ninf,  3, 29,30,57,  pinf]\n",
    "cutx20 = [ninf,  2, 4,6,9, pinf]\n",
    "cutx21 = [ninf,  18, 82, pinf]\n",
    "cutx22 = [ninf,  3, 29,30,57,  pinf]\n",
    "\n",
    "\n",
    "dfx1,ivx1,woex1 = self_bin(df['y'],df['ali_score'], cutx1)\n",
    "dfx2,ivx2,woex2 = self_bin(df['y'],df['be_query_cnt_12'], cutx2)\n",
    "dfx3,ivx3,woex3 = self_bin(df['y'],df['credit_score'], cutx3)\n",
    "#dfx4,ivx4,woex4= self_bin(df['y'],df['buyingindex'], cutx4)\n",
    "#dfx5,ivx5,woex5= self_bin(df['y'],df['zc_credit_score'], cutx5)\n",
    "dfx6,ivx6,woex6 = self_bin(df['y'],df['12_diff_month_sum_repay_remind_average_level'], cutx6)\n",
    "dfx7,ivx7,woex7 = self_bin(df['y'],df['bai_score'], cutx7)\n",
    "#dfx8,ivx8,woex8 = self_bin(df['y'],df['score'], cutx8)\n",
    "dfx9,ivx9,woex9 = self_bin(df['y'],df['3m_apply_count_score'], cutx9)\n",
    "dfx10,ivx10,woex10 = self_bin(df['y'],df['be_mean'], cutx10)\n",
    "#dfx11,ivx11,woex11 = self_bin(df['y'],df['riskscore'], cutx11)\n",
    "#dfx12,ivx12,woex12 = self_bin(df['y'],df['m24_verif_sum'], cutx12)\n",
    "dfx13,ivx13,woex13 = self_bin(df['y'],df['riskscore'], cutx13)\n",
    "dfx14,ivx14,woex14 = self_bin(df['y'],df['pct_cnt_to_black'], cutx14)\n",
    "#dfx15,ivx15,woex15 = self_bin(df['y'],df['zhuce_to_apply_time'], cutx15)\n",
    "dfx16,ivx16,woex16 = self_bin(df['y'],df['riskcategoryconsuming'], cutx16)\n",
    "#dfx17,ivx17,woex17 = self_bin(df['y'],df['avg_histroy_advance_day'], cutx17)\n",
    "#dfx18,ivx18,woex18 = self_bin(df['y'],df['province'], cutx18)\n",
    "#dfx19,ivx19,woex19 = self_bin(df['y'],df['mid_risk_mobile'], cutx19)\n",
    "#dfx20,ivx20,woex20 = self_bin(df['y'],df['7d_night_login_cnt'], cutx20)\n",
    "#dfx21,ivx21,woex21 = self_bin(df['y'],df['d7_valid_calls_cnt'], cutx21)\n",
    "#dfx22,ivx22,woex22 = self_bin(df['y'],df['3m_apply_count_mobile'], cutx22)\n",
    "\n",
    "dfx1,ivx1,woex1"
   ]
  },
  {
   "cell_type": "code",
   "execution_count": 156,
   "metadata": {},
   "outputs": [
    {
     "data": {
      "text/plain": [
       "(                min  max  sum  total      rate       woe  goodattribute  \\\n",
       " Bucket                                                                    \n",
       " (-inf, 5.0]    -999    5   35    212  0.165094  0.425815       0.145833   \n",
       " (5.0, 51.0]       6   51   88    940  0.093617 -0.223633       0.366667   \n",
       " (51.0, 106.0]    52  106   77    543  0.141805  0.246237       0.320833   \n",
       " (106.0, 166.0]  107  166   10    227  0.044053 -1.030695       0.041667   \n",
       " (166.0, inf]    167  698   30    176  0.170455  0.464208       0.125000   \n",
       " \n",
       "                 badattribute  \n",
       " Bucket                        \n",
       " (-inf, 5.0]         0.095264  \n",
       " (5.0, 51.0]         0.458558  \n",
       " (51.0, 106.0]       0.250807  \n",
       " (106.0, 166.0]      0.116792  \n",
       " (166.0, inf]        0.078579  ,\n",
       " 0.15830662782851207,\n",
       " [0.426, -0.224, 0.246, -1.031, 0.464])"
      ]
     },
     "execution_count": 156,
     "metadata": {},
     "output_type": "execute_result"
    }
   ],
   "source": [
    "dfx2,ivx2,woex2"
   ]
  },
  {
   "cell_type": "code",
   "execution_count": 157,
   "metadata": {},
   "outputs": [
    {
     "data": {
      "text/plain": [
       "(                min  max  sum  total      rate       woe  goodattribute  \\\n",
       " Bucket                                                                    \n",
       " (-inf, -1.0]   -999 -999   15    129  0.116279  0.018469       0.062500   \n",
       " (-1.0, 543.0]   370  543   20     78  0.256410  0.981906       0.083333   \n",
       " (543.0, 684.0]  545  684   74    478  0.154812  0.349267       0.308333   \n",
       " (684.0, 774.0]  685  774   80    758  0.105541 -0.090504       0.333333   \n",
       " (774.0, inf]    775  845   51    655  0.077863 -0.425132       0.212500   \n",
       " \n",
       "                 badattribute  \n",
       " Bucket                        \n",
       " (-inf, -1.0]        0.061356  \n",
       " (-1.0, 543.0]       0.031216  \n",
       " (543.0, 684.0]      0.217438  \n",
       " (684.0, 774.0]      0.364909  \n",
       " (774.0, inf]        0.325081  ,\n",
       " 0.13366111782179868,\n",
       " [0.018, 0.982, 0.349, -0.091, -0.425])"
      ]
     },
     "execution_count": 157,
     "metadata": {},
     "output_type": "execute_result"
    }
   ],
   "source": [
    "dfx3,ivx3,woex3"
   ]
  },
  {
   "cell_type": "code",
   "execution_count": 158,
   "metadata": {},
   "outputs": [
    {
     "ename": "NameError",
     "evalue": "name 'dfx4' is not defined",
     "output_type": "error",
     "traceback": [
      "\u001b[1;31m---------------------------------------------------------------------------\u001b[0m",
      "\u001b[1;31mNameError\u001b[0m                                 Traceback (most recent call last)",
      "\u001b[1;32m<ipython-input-158-4766d59733b7>\u001b[0m in \u001b[0;36m<module>\u001b[1;34m\u001b[0m\n\u001b[1;32m----> 1\u001b[1;33m \u001b[0mdfx4\u001b[0m\u001b[1;33m,\u001b[0m\u001b[0mivx4\u001b[0m\u001b[1;33m,\u001b[0m\u001b[0mwoex4\u001b[0m\u001b[1;33m\u001b[0m\u001b[1;33m\u001b[0m\u001b[0m\n\u001b[0m",
      "\u001b[1;31mNameError\u001b[0m: name 'dfx4' is not defined"
     ]
    }
   ],
   "source": [
    "dfx4,ivx4,woex4"
   ]
  },
  {
   "cell_type": "code",
   "execution_count": 159,
   "metadata": {},
   "outputs": [
    {
     "ename": "NameError",
     "evalue": "name 'dfx5' is not defined",
     "output_type": "error",
     "traceback": [
      "\u001b[1;31m---------------------------------------------------------------------------\u001b[0m",
      "\u001b[1;31mNameError\u001b[0m                                 Traceback (most recent call last)",
      "\u001b[1;32m<ipython-input-159-bdf1f1425ff8>\u001b[0m in \u001b[0;36m<module>\u001b[1;34m\u001b[0m\n\u001b[1;32m----> 1\u001b[1;33m \u001b[0mdfx5\u001b[0m\u001b[1;33m,\u001b[0m\u001b[0mivx5\u001b[0m\u001b[1;33m,\u001b[0m\u001b[0mwoex5\u001b[0m\u001b[1;33m\u001b[0m\u001b[1;33m\u001b[0m\u001b[0m\n\u001b[0m",
      "\u001b[1;31mNameError\u001b[0m: name 'dfx5' is not defined"
     ]
    }
   ],
   "source": [
    "dfx5,ivx5,woex5"
   ]
  },
  {
   "cell_type": "code",
   "execution_count": 160,
   "metadata": {},
   "outputs": [
    {
     "data": {
      "text/plain": [
       "(              min  max  sum  total      rate       woe  goodattribute  \\\n",
       " Bucket                                                                  \n",
       " (-inf, -1.0] -999 -999  182   1372  0.132653  0.168915       0.758333   \n",
       " (-1.0, 2.0]     1    2   26    227  0.114537  0.001409       0.108333   \n",
       " (2.0, 3.0]      3    3   12    194  0.061856 -0.672483       0.050000   \n",
       " (3.0, 4.0]      4    4    1     86  0.011628 -2.396034       0.004167   \n",
       " (4.0, inf]      5    5   19    219  0.086758 -0.307261       0.079167   \n",
       " \n",
       "               badattribute  \n",
       " Bucket                      \n",
       " (-inf, -1.0]      0.640474  \n",
       " (-1.0, 2.0]       0.108181  \n",
       " (2.0, 3.0]        0.097955  \n",
       " (3.0, 4.0]        0.045748  \n",
       " (4.0, inf]        0.107643  ,\n",
       " 0.160537422371007,\n",
       " [0.169, 0.001, -0.672, -2.396, -0.307])"
      ]
     },
     "execution_count": 160,
     "metadata": {},
     "output_type": "execute_result"
    }
   ],
   "source": [
    "dfx6,ivx6,woex6"
   ]
  },
  {
   "cell_type": "code",
   "execution_count": 161,
   "metadata": {},
   "outputs": [
    {
     "data": {
      "text/plain": [
       "(                min   max  sum  total      rate       woe  goodattribute  \\\n",
       " Bucket                                                                     \n",
       " (-inf, 82.4] -999.0  82.4  221   1722  0.128339  0.130893       0.920833   \n",
       " (82.4, inf]    82.5  94.0   19    376  0.050532 -0.886680       0.079167   \n",
       " \n",
       "               badattribute  \n",
       " Bucket                      \n",
       " (-inf, 82.4]      0.807858  \n",
       " (82.4, inf]       0.192142  , 0.1149607016843347, [0.131, -0.887])"
      ]
     },
     "execution_count": 161,
     "metadata": {},
     "output_type": "execute_result"
    }
   ],
   "source": [
    "dfx7,ivx7,woex7"
   ]
  },
  {
   "cell_type": "code",
   "execution_count": 162,
   "metadata": {},
   "outputs": [
    {
     "ename": "NameError",
     "evalue": "name 'dfx8' is not defined",
     "output_type": "error",
     "traceback": [
      "\u001b[1;31m---------------------------------------------------------------------------\u001b[0m",
      "\u001b[1;31mNameError\u001b[0m                                 Traceback (most recent call last)",
      "\u001b[1;32m<ipython-input-162-bcffb8537c05>\u001b[0m in \u001b[0;36m<module>\u001b[1;34m\u001b[0m\n\u001b[1;32m----> 1\u001b[1;33m \u001b[0mdfx8\u001b[0m\u001b[1;33m,\u001b[0m\u001b[0mivx8\u001b[0m\u001b[1;33m,\u001b[0m\u001b[0mwoex8\u001b[0m\u001b[1;33m\u001b[0m\u001b[1;33m\u001b[0m\u001b[0m\n\u001b[0m",
      "\u001b[1;31mNameError\u001b[0m: name 'dfx8' is not defined"
     ]
    }
   ],
   "source": [
    "dfx8,ivx8,woex8"
   ]
  },
  {
   "cell_type": "code",
   "execution_count": 163,
   "metadata": {},
   "outputs": [
    {
     "data": {
      "text/plain": [
       "(             min  max  sum  total      rate       woe  goodattribute  \\\n",
       " Bucket                                                                 \n",
       " (-inf, 5.0] -999    5  145   1099  0.131938  0.162687       0.604167   \n",
       " (5.0, 19.0]    6   19   88    973  0.090442 -0.261634       0.366667   \n",
       " (19.0, inf]   20   24    7     26  0.269231  1.048088       0.029167   \n",
       " \n",
       "              badattribute  \n",
       " Bucket                     \n",
       " (-inf, 5.0]      0.513455  \n",
       " (5.0, 19.0]      0.476319  \n",
       " (19.0, inf]      0.010226  , 0.06329765985219726, [0.163, -0.262, 1.048])"
      ]
     },
     "execution_count": 163,
     "metadata": {},
     "output_type": "execute_result"
    }
   ],
   "source": [
    "dfx9,ivx9,woex9"
   ]
  },
  {
   "cell_type": "code",
   "execution_count": 164,
   "metadata": {},
   "outputs": [
    {
     "data": {
      "text/plain": [
       "(                   min    max  sum  total      rate       woe  goodattribute  \\\n",
       " Bucket                                                                         \n",
       " (-inf, 12.27]  -999.00  12.27   29    141  0.205674  0.695414       0.120833   \n",
       " (12.27, 38.98]   12.40  38.98   59    500  0.118000  0.035110       0.245833   \n",
       " (38.98, 45.89]   39.01  45.89   64    520  0.123077  0.083007       0.266667   \n",
       " (45.89, 48.7]    45.90  48.70   29    342  0.084795 -0.332290       0.120833   \n",
       " (48.7, inf]      48.71  74.97   59    595  0.099160 -0.159980       0.245833   \n",
       " \n",
       "                 badattribute  \n",
       " Bucket                        \n",
       " (-inf, 12.27]       0.060280  \n",
       " (12.27, 38.98]      0.237352  \n",
       " (38.98, 45.89]      0.245425  \n",
       " (45.89, 48.7]       0.168461  \n",
       " (48.7, inf]         0.288482  ,\n",
       " 0.06681977470587372,\n",
       " [0.695, 0.035, 0.083, -0.332, -0.16])"
      ]
     },
     "execution_count": 164,
     "metadata": {},
     "output_type": "execute_result"
    }
   ],
   "source": [
    "dfx10,ivx10,woex10"
   ]
  },
  {
   "cell_type": "code",
   "execution_count": 165,
   "metadata": {},
   "outputs": [
    {
     "ename": "NameError",
     "evalue": "name 'dfx11' is not defined",
     "output_type": "error",
     "traceback": [
      "\u001b[1;31m---------------------------------------------------------------------------\u001b[0m",
      "\u001b[1;31mNameError\u001b[0m                                 Traceback (most recent call last)",
      "\u001b[1;32m<ipython-input-165-4d2a38f441de>\u001b[0m in \u001b[0;36m<module>\u001b[1;34m\u001b[0m\n\u001b[1;32m----> 1\u001b[1;33m \u001b[0mdfx11\u001b[0m\u001b[1;33m,\u001b[0m\u001b[0mivx11\u001b[0m\u001b[1;33m,\u001b[0m\u001b[0mwoex11\u001b[0m\u001b[1;33m\u001b[0m\u001b[1;33m\u001b[0m\u001b[0m\n\u001b[0m",
      "\u001b[1;31mNameError\u001b[0m: name 'dfx11' is not defined"
     ]
    }
   ],
   "source": [
    "dfx11,ivx11,woex11"
   ]
  },
  {
   "cell_type": "code",
   "execution_count": 166,
   "metadata": {},
   "outputs": [
    {
     "ename": "NameError",
     "evalue": "name 'dfx12' is not defined",
     "output_type": "error",
     "traceback": [
      "\u001b[1;31m---------------------------------------------------------------------------\u001b[0m",
      "\u001b[1;31mNameError\u001b[0m                                 Traceback (most recent call last)",
      "\u001b[1;32m<ipython-input-166-9f12b2b27c87>\u001b[0m in \u001b[0;36m<module>\u001b[1;34m\u001b[0m\n\u001b[1;32m----> 1\u001b[1;33m \u001b[0mdfx12\u001b[0m\u001b[1;33m,\u001b[0m\u001b[0mivx12\u001b[0m\u001b[1;33m,\u001b[0m\u001b[0mwoex12\u001b[0m\u001b[1;33m\u001b[0m\u001b[1;33m\u001b[0m\u001b[0m\n\u001b[0m",
      "\u001b[1;31mNameError\u001b[0m: name 'dfx12' is not defined"
     ]
    }
   ],
   "source": [
    "dfx12,ivx12,woex12"
   ]
  },
  {
   "cell_type": "code",
   "execution_count": 167,
   "metadata": {},
   "outputs": [
    {
     "data": {
      "text/plain": [
       "(              min  max  sum  total      rate       woe  goodattribute  \\\n",
       " Bucket                                                                  \n",
       " (-inf, 29.0] -999   29   25    236  0.105932 -0.086365       0.104167   \n",
       " (29.0, 53.0]   30   53   64    604  0.105960 -0.086069       0.266667   \n",
       " (53.0, 71.0]   54   71   72    689  0.104499 -0.101586       0.300000   \n",
       " (71.0, 91.0]   72   91   73    555  0.131532  0.159132       0.304167   \n",
       " (91.0, inf]    92   99    6     14  0.428571  1.758935       0.025000   \n",
       " \n",
       "               badattribute  \n",
       " Bucket                      \n",
       " (-inf, 29.0]      0.113563  \n",
       " (29.0, 53.0]      0.290635  \n",
       " (53.0, 71.0]      0.332078  \n",
       " (71.0, 91.0]      0.259419  \n",
       " (91.0, inf]       0.004306  ,\n",
       " 0.04965383805521037,\n",
       " [-0.086, -0.086, -0.102, 0.159, 1.759])"
      ]
     },
     "execution_count": 167,
     "metadata": {},
     "output_type": "execute_result"
    }
   ],
   "source": [
    "dfx13,ivx13,woex13"
   ]
  },
  {
   "cell_type": "code",
   "execution_count": 168,
   "metadata": {},
   "outputs": [
    {
     "data": {
      "text/plain": [
       "(                       min       max  sum  total      rate       woe  \\\n",
       " Bucket                                                                 \n",
       " (-inf, 0.737]  -999.000000  0.737363   44    300  0.146667  0.285629   \n",
       " (0.737, 0.756]    0.743968  0.755816   76    832  0.091346 -0.250691   \n",
       " (0.756, 0.964]    0.910633  0.964235   99    849  0.116608  0.021664   \n",
       " (0.964, inf]      0.964243  0.999413   21    117  0.179487  0.526791   \n",
       " \n",
       "                 goodattribute  badattribute  \n",
       " Bucket                                       \n",
       " (-inf, 0.737]        0.183333      0.137783  \n",
       " (0.737, 0.756]       0.316667      0.406889  \n",
       " (0.756, 0.964]       0.412500      0.403660  \n",
       " (0.964, inf]         0.087500      0.051668  ,\n",
       " 0.054695843352381146,\n",
       " [0.286, -0.251, 0.022, 0.527])"
      ]
     },
     "execution_count": 168,
     "metadata": {},
     "output_type": "execute_result"
    }
   ],
   "source": [
    "dfx14,ivx14,woex14"
   ]
  },
  {
   "cell_type": "code",
   "execution_count": 169,
   "metadata": {},
   "outputs": [
    {
     "ename": "NameError",
     "evalue": "name 'dfx15' is not defined",
     "output_type": "error",
     "traceback": [
      "\u001b[1;31m---------------------------------------------------------------------------\u001b[0m",
      "\u001b[1;31mNameError\u001b[0m                                 Traceback (most recent call last)",
      "\u001b[1;32m<ipython-input-169-f221a5ac9638>\u001b[0m in \u001b[0;36m<module>\u001b[1;34m\u001b[0m\n\u001b[1;32m----> 1\u001b[1;33m \u001b[0mdfx15\u001b[0m\u001b[1;33m,\u001b[0m\u001b[0mivx15\u001b[0m\u001b[1;33m,\u001b[0m\u001b[0mwoex15\u001b[0m\u001b[1;33m\u001b[0m\u001b[1;33m\u001b[0m\u001b[0m\n\u001b[0m",
      "\u001b[1;31mNameError\u001b[0m: name 'dfx15' is not defined"
     ]
    }
   ],
   "source": [
    "dfx15,ivx15,woex15"
   ]
  },
  {
   "cell_type": "code",
   "execution_count": 170,
   "metadata": {},
   "outputs": [
    {
     "data": {
      "text/plain": [
       "(                   min     max  sum  total      rate       woe  goodattribute  \\\n",
       " Bucket                                                                          \n",
       " (-inf, -1.0]   -999.00   -1.00  145   1008  0.143849  0.262936       0.604167   \n",
       " (-1.0, 9.07]      0.00    9.07   38    453  0.083885 -0.344075       0.158333   \n",
       " (9.07, 27.76]     9.37   27.76    9    160  0.056250 -0.773438       0.037500   \n",
       " (27.76, 47.85]   27.88   47.85    9    140  0.064286 -0.631356       0.037500   \n",
       " (47.85, inf]     48.00  100.00   39    337  0.115727  0.013085       0.162500   \n",
       " \n",
       "                 badattribute  \n",
       " Bucket                        \n",
       " (-inf, -1.0]        0.464478  \n",
       " (-1.0, 9.07]        0.223358  \n",
       " (9.07, 27.76]       0.081270  \n",
       " (27.76, 47.85]      0.070506  \n",
       " (47.85, inf]        0.160388  ,\n",
       " 0.1138223982496532,\n",
       " [0.263, -0.344, -0.773, -0.631, 0.013])"
      ]
     },
     "execution_count": 170,
     "metadata": {},
     "output_type": "execute_result"
    }
   ],
   "source": [
    "dfx16,ivx16,woex16"
   ]
  },
  {
   "cell_type": "code",
   "execution_count": 171,
   "metadata": {},
   "outputs": [
    {
     "data": {
      "image/png": "[encoded data removed]",
      "text/plain": [
       "<Figure size 432x288 with 1 Axes>"
      ]
     },
     "metadata": {
      "needs_background": "light"
     },
     "output_type": "display_data"
    }
   ],
   "source": [
    " import matplotlib.pyplot as plt  \n",
    "ivlist=[ivx1,ivx2,ivx3,ivx6,ivx7,ivx9,ivx10,ivx13,ivx14,ivx16]#各变量IV\n",
    "index=['x1','x2','x3','x6','x7','x9','x10','x13','x14','x16',]#x轴的标签\n",
    "fig1 = plt.figure(1)\n",
    "ax1 = fig1.add_subplot(1, 1, 1)\n",
    "x = np.arange(len(index))+1\n",
    "ax1.bar(x, ivlist, width=0.4)#生成柱状图\n",
    "ax1.set_xticks(x)\n",
    "ax1.set_xticklabels(index, rotation=0, fontsize=12)\n",
    "ax1.set_ylabel('IV(Information Value)', fontsize=14)\n",
    "#在柱状图上添加数字标签\n",
    "for a, b in zip(x, ivlist):\n",
    "    plt.text(a, b + 0.01, '%.4f' % b, ha='center', va='bottom', fontsize=10)\n",
    "plt.show()"
   ]
  },
  {
   "cell_type": "code",
   "execution_count": 172,
   "metadata": {},
   "outputs": [],
   "source": [
    "from pandas import Series\n",
    "def replace_woe(series,cut,woe):\n",
    "    list=[]\n",
    "    i=0\n",
    "    while i<len(series):\n",
    "        valuek=series[i]\n",
    "        j=len(cut)-2\n",
    "        m=len(cut)-2\n",
    "        while j>=0:\n",
    "            if valuek>=cut[j]:\n",
    "                j=-1\n",
    "            else:\n",
    "                j -=1\n",
    "                m -= 1\n",
    "        list.append(woe[m])\n",
    "        i += 1\n",
    "    return list"
   ]
  },
  {
   "cell_type": "code",
   "execution_count": 173,
   "metadata": {},
   "outputs": [],
   "source": [
    "import pandas as pd\n",
    "import numpy as np\n",
    "# 替换成woe\n",
    "df['ali_score'] = Series(replace_woe(df['ali_score'], cutx1, woex1))\n",
    "df['be_query_cnt_12'] = Series(replace_woe(df['be_query_cnt_12'], cutx2, woex2))\n",
    "df['credit_score'] = Series(replace_woe(df['credit_score'], cutx3, woex3))\n",
    "#df['buyingindex'] = Series(replace_woe(df['buyingindex'], cutx4, woex4))\n",
    "#df['zc_credit_score'] = Series(replace_woe(df['zc_credit_score'], cutx5, woex5))\n",
    "df['12_diff_month_sum_repay_remind_average_level'] = Series(replace_woe(df['12_diff_month_sum_repay_remind_average_level'], cutx6, woex6))\n",
    "df['bai_score'] = Series(replace_woe(df['bai_score'], cutx7, woex7))\n",
    "#df['score'] = Series(replace_woe(df['score'], cutx8, woex8))\n",
    "df['3m_apply_count_score'] = Series(replace_woe(df['3m_apply_count_score'], cutx9, woex9))\n",
    "df['be_mean'] = Series(replace_woe(df['be_mean'], cutx10, woex10))\n",
    "#df['24_diff_month_sum_loan_offer_count'] = Series(replace_woe(df['24_diff_month_sum_loan_offer_count'], cutx11, woex11))\n",
    "#df['m24_verif_sum'] = Series(replace_woe(df['m24_verif_sum'], cutx12, woex12))\n",
    "df['riskscore'] = Series(replace_woe(df['riskscore'], cutx13, woex13))\n",
    "df['pct_cnt_to_black'] = Series(replace_woe(df['pct_cnt_to_black'], cutx14, woex14))\n",
    "#df['zhuce_to_apply_time'] = Series(replace_woe(df['zhuce_to_apply_time'], cutx15, woex15))\n",
    "df['riskcategoryconsuming'] = Series(replace_woe(df['riskcategoryconsuming'], cutx16, woex16))\n",
    "#df['avg_histroy_advance_day'] = Series(replace_woe(df['avg_histroy_advance_day'], cutx17, woex17))\n",
    "#df['province'] = Series(replace_woe(df['province'], cutx18, woex18))\n",
    "#df['mid_risk_mobile'] = Series(replace_woe(df['mid_risk_mobile'], cutx19, woex19))\n",
    "#df['7d_night_login_cnt'] = Series(replace_woe(df['7d_night_login_cnt'], cutx20, woex20))\n",
    "#df['d7_valid_calls_cnt'] = Series(replace_woe(df['d7_valid_calls_cnt'], cutx21, woex21))\n",
    "#df['3m_apply_count_mobile'] = Series(replace_woe(df['3m_apply_count_mobile'], cutx22, woex22))\n",
    "\n",
    "\n",
    "df.to_csv('WoeData.csv', index=False)\n",
    "\n",
    "df.to_csv('C:/Users/Wu Ran/Desktop/woe6.csv', encoding = 'utf-8')"
   ]
  },
  {
   "cell_type": "code",
   "execution_count": 174,
   "metadata": {},
   "outputs": [
    {
     "name": "stdout",
     "output_type": "stream",
     "text": [
      "测试成绩：0.8841269841269841\n"
     ]
    },
    {
     "name": "stderr",
     "output_type": "stream",
     "text": [
      "D:\\anaconda\\lib\\site-packages\\sklearn\\linear_model\\logistic.py:433: FutureWarning: Default solver will be changed to 'lbfgs' in 0.22. Specify a solver to silence this warning.\n",
      "  FutureWarning)\n",
      "D:\\anaconda\\lib\\site-packages\\sklearn\\utils\\validation.py:761: DataConversionWarning: A column-vector y was passed when a 1d array was expected. Please change the shape of y to (n_samples, ), for example using ravel().\n",
      "  y = column_or_1d(y, warn=True)\n"
     ]
    }
   ],
   "source": [
    "from sklearn.linear_model import LogisticRegression\n",
    "from sklearn.model_selection import train_test_split\n",
    "x = df.iloc[:,1:]\n",
    "y = df.iloc[:,:1]\n",
    "x_train,x_test,y_train,y_test = train_test_split(x,y,test_size=0.3,random_state=6)\n",
    "model = LogisticRegression(C=1, penalty='l1')\n",
    "clf = model.fit(x_train,y_train)\n",
    "print('测试成绩：{}'.format(clf.score(x_test,y_test)))"
   ]
  },
  {
   "cell_type": "code",
   "execution_count": 175,
   "metadata": {},
   "outputs": [
    {
     "name": "stderr",
     "output_type": "stream",
     "text": [
      "D:\\anaconda\\lib\\site-packages\\ipykernel_launcher.py:6: DeprecationWarning: \n",
      ".ix is deprecated. Please use\n",
      ".loc for label based indexing or\n",
      ".iloc for positional indexing\n",
      "\n",
      "See the documentation here:\n",
      "http://pandas.pydata.org/pandas-docs/stable/indexing.html#ix-indexer-is-deprecated\n",
      "  \n"
     ]
    }
   ],
   "source": [
    "df = pd.read_csv('WoeData.csv')\n",
    "\n",
    "from sklearn.linear_model import LogisticRegression\n",
    "from sklearn.model_selection import train_test_split\n",
    "Y=df['y']\n",
    "X=df.ix[:,1:]\n",
    "\n",
    "X_train,X_test,Y_train,Y_test=train_test_split(X,Y,test_size=0.3,random_state=99)\n",
    "\n",
    "train=pd.concat([Y_train,X_train],axis=1)\n",
    "test=pd.concat([Y_test,X_test],axis=1)"
   ]
  },
  {
   "cell_type": "code",
   "execution_count": 176,
   "metadata": {
    "scrolled": false
   },
   "outputs": [
    {
     "name": "stdout",
     "output_type": "stream",
     "text": [
      "Optimization terminated successfully.\n",
      "         Current function value: 0.327717\n",
      "         Iterations 7\n",
      "                           Logit Regression Results                           \n",
      "==============================================================================\n",
      "Dep. Variable:                      y   No. Observations:                 2098\n",
      "Model:                          Logit   Df Residuals:                     2087\n",
      "Method:                           MLE   Df Model:                           10\n",
      "Date:                Tue, 29 Dec 2020   Pseudo R-squ.:                 0.07843\n",
      "Time:                        10:04:06   Log-Likelihood:                -687.55\n",
      "converged:                       True   LL-Null:                       -746.06\n",
      "                                        LLR p-value:                 2.031e-20\n",
      "================================================================================================================\n",
      "                                                   coef    std err          z      P>|z|      [0.025      0.975]\n",
      "----------------------------------------------------------------------------------------------------------------\n",
      "const                                           -1.8320      0.143    -12.777      0.000      -2.113      -1.551\n",
      "ali_score                                        0.7571      0.172      4.398      0.000       0.420       1.095\n",
      "be_query_cnt_12                                  0.8510      0.195      4.368      0.000       0.469       1.233\n",
      "credit_score                                     0.5470      0.200      2.739      0.006       0.156       0.938\n",
      "12_diff_month_sum_repay_remind_average_level     0.1453      0.118      1.235      0.217      -0.085       0.376\n",
      "bai_score                                        0.5457      0.246      2.221      0.026       0.064       1.027\n",
      "3m_apply_count_score                             0.7042      0.258      2.731      0.006       0.199       1.210\n",
      "be_mean                                          0.3386      0.273      1.241      0.215      -0.196       0.873\n",
      "riskscore                                        0.6920      0.270      2.566      0.010       0.163       1.221\n",
      "pct_cnt_to_black                                 0.7152      0.350      2.044      0.041       0.029       1.401\n",
      "riskcategoryconsuming                            0.5820      0.384      1.515      0.130      -0.171       1.335\n",
      "================================================================================================================\n"
     ]
    }
   ],
   "source": [
    "import numpy as np\n",
    "import statsmodels.api as sm\n",
    "from sklearn.linear_model import LogisticRegression\n",
    "data = pd.read_csv('WoeData.csv')\n",
    "import statsmodels.api as sm\n",
    "data[np.isnan(data)] = 0\n",
    "data[np.isinf(data)] = 0\n",
    "#应变量\n",
    "Y=data['y']\n",
    "#自变量，剔除对因变量影响不明显的变量\n",
    "X=data.drop(['y'],axis=1)\n",
    "X1=sm.add_constant(X) \n",
    "logit=sm.Logit(Y,X1)\n",
    "result=logit.fit()\n",
    "print(result.summary())"
   ]
  },
  {
   "cell_type": "code",
   "execution_count": 177,
   "metadata": {},
   "outputs": [
    {
     "data": {
      "image/png": "[encoded data removed]",
      "text/plain": [
       "<Figure size 432x288 with 1 Axes>"
      ]
     },
     "metadata": {
      "needs_background": "light"
     },
     "output_type": "display_data"
    }
   ],
   "source": [
    "from sklearn.metrics import roc_curve,auc\n",
    "import matplotlib\n",
    "matplotlib.rcParams['font.sans-serif'] = ['FangSong']    # 指定默认字体\n",
    "matplotlib.rcParams['axes.unicode_minus'] = False\n",
    "Y_train=train['y']\n",
    "X_train=train.drop(['y'],axis=1)\n",
    "\n",
    "\n",
    "#通过ROC曲线和AUC来评估模型的拟合能力。\n",
    "X2=sm.add_constant(X_train)\n",
    "resu=result.predict(X2)\n",
    "\n",
    "fpr,tpr,threshold=roc_curve(Y_train,resu)\n",
    "# %f,%d,%s输出    \n",
    "rocauc=auc(fpr,tpr)\n",
    "plt.plot(fpr,tpr,'b',label='AUC=%0.2f'% rocauc)\n",
    "plt.title('ROC curve (AUC = %0.4f)' % rocauc, fontsize=25)\n",
    "plt.legend(loc='lower right')\n",
    "plt.plot([0,1],[0,1],'r--')\n",
    "plt.xlabel('False Positive Rate')\n",
    "plt.ylabel('True Positive Rate')\n",
    "plt.show()"
   ]
  },
  {
   "cell_type": "code",
   "execution_count": 178,
   "metadata": {
    "scrolled": true
   },
   "outputs": [
    {
     "name": "stdout",
     "output_type": "stream",
     "text": [
      "ks_value is 0.333 at pop = 0.4251\n"
     ]
    },
    {
     "name": "stderr",
     "output_type": "stream",
     "text": [
      "D:\\anaconda\\lib\\site-packages\\ipykernel_launcher.py:30: SettingWithCopyWarning: \n",
      "A value is trying to be set on a copy of a slice from a DataFrame.\n",
      "Try using .loc[row_indexer,col_indexer] = value instead\n",
      "\n",
      "See the caveats in the documentation: http://pandas.pydata.org/pandas-docs/stable/indexing.html#indexing-view-versus-copy\n",
      "D:\\anaconda\\lib\\site-packages\\ipykernel_launcher.py:31: SettingWithCopyWarning: \n",
      "A value is trying to be set on a copy of a slice from a DataFrame.\n",
      "Try using .loc[row_indexer,col_indexer] = value instead\n",
      "\n",
      "See the caveats in the documentation: http://pandas.pydata.org/pandas-docs/stable/indexing.html#indexing-view-versus-copy\n"
     ]
    },
    {
     "data": {
      "text/plain": [
       "(          tile  cumsum_good  cumsum_bad        ks\n",
       " 0     0.000000     0.000000    0.000000  0.000000\n",
       " 1     0.002044     0.000771    0.011696  0.010925\n",
       " 2     0.002725     0.001542    0.011696  0.010154\n",
       " 3     0.004087     0.003084    0.011696  0.008612\n",
       " 4     0.004768     0.003855    0.011696  0.007841\n",
       " 5     0.006131     0.005397    0.011696  0.006299\n",
       " 6     0.006812     0.005397    0.017544  0.012147\n",
       " 7     0.008174     0.006168    0.023392  0.017224\n",
       " 8     0.008856     0.006939    0.023392  0.016453\n",
       " 9     0.010218     0.007710    0.029240  0.021530\n",
       " 10    0.010899     0.007710    0.035088  0.027378\n",
       " 11    0.012262     0.008481    0.040936  0.032455\n",
       " 12    0.012943     0.008481    0.046784  0.038303\n",
       " 13    0.014305     0.010023    0.046784  0.036760\n",
       " 14    0.014986     0.010794    0.046784  0.035989\n",
       " 15    0.016349     0.012336    0.046784  0.034447\n",
       " 16    0.017030     0.012336    0.052632  0.040295\n",
       " 17    0.017711     0.013107    0.052632  0.039524\n",
       " 18    0.019074     0.014649    0.052632  0.037982\n",
       " 19    0.019755     0.015420    0.052632  0.037211\n",
       " 20    0.021117     0.016962    0.052632  0.035669\n",
       " 21    0.021798     0.017733    0.052632  0.034898\n",
       " 22    0.023161     0.018504    0.058480  0.039975\n",
       " 23    0.023842     0.019275    0.058480  0.039204\n",
       " 24    0.025204     0.019275    0.070175  0.050900\n",
       " 25    0.025886     0.020046    0.070175  0.050129\n",
       " 26    0.027248     0.020817    0.076023  0.055206\n",
       " 27    0.027929     0.021588    0.076023  0.054435\n",
       " 28    0.029292     0.022359    0.081871  0.059512\n",
       " 29    0.029973     0.023130    0.081871  0.058741\n",
       " ...        ...          ...         ...       ...\n",
       " 971   0.971390     0.968389    0.994152  0.025763\n",
       " 972   0.972071     0.969160    0.994152  0.024992\n",
       " 973   0.973433     0.970702    0.994152  0.023450\n",
       " 974   0.974114     0.971473    0.994152  0.022679\n",
       " 975   0.975477     0.973015    0.994152  0.021137\n",
       " 976   0.976158     0.973786    0.994152  0.020366\n",
       " 977   0.977520     0.975328    0.994152  0.018824\n",
       " 978   0.978202     0.976099    0.994152  0.018053\n",
       " 979   0.979564     0.977641    0.994152  0.016511\n",
       " 980   0.980245     0.978412    0.994152  0.015740\n",
       " 981   0.981608     0.979954    0.994152  0.014198\n",
       " 982   0.982289     0.980725    0.994152  0.013427\n",
       " 983   0.983651     0.982267    0.994152  0.011885\n",
       " 984   0.984332     0.983038    0.994152  0.011114\n",
       " 985   0.985014     0.983809    0.994152  0.010343\n",
       " 986   0.986376     0.985351    0.994152  0.008801\n",
       " 987   0.987057     0.986122    0.994152  0.008030\n",
       " 988   0.988420     0.987664    0.994152  0.006488\n",
       " 989   0.989101     0.988435    0.994152  0.005717\n",
       " 990   0.990463     0.989206    1.000000  0.010794\n",
       " 991   0.991144     0.989977    1.000000  0.010023\n",
       " 992   0.992507     0.991519    1.000000  0.008481\n",
       " 993   0.993188     0.992290    1.000000  0.007710\n",
       " 994   0.994550     0.993832    1.000000  0.006168\n",
       " 995   0.995232     0.994603    1.000000  0.005397\n",
       " 996   0.996594     0.996145    1.000000  0.003855\n",
       " 997   0.997275     0.996916    1.000000  0.003084\n",
       " 998   0.998638     0.998458    1.000000  0.001542\n",
       " 999   0.999319     0.999229    1.000000  0.000771\n",
       " 1000  1.000000     1.000000    1.000000  0.000000\n",
       " \n",
       " [1001 rows x 4 columns],)"
      ]
     },
     "execution_count": 178,
     "metadata": {},
     "output_type": "execute_result"
    },
    {
     "data": {
      "image/png": "[encoded data removed]",
      "text/plain": [
       "<Figure size 432x288 with 1 Axes>"
      ]
     },
     "metadata": {
      "needs_background": "light"
     },
     "output_type": "display_data"
    }
   ],
   "source": [
    "import pandas as pd\n",
    "def PlotKS(preds, labels, n, asc):\n",
    "    \n",
    "    # preds is score: asc=1\n",
    "    # preds is prob: asc=0\n",
    "    \n",
    "    pred = preds  # 预测值\n",
    "    bad = labels  # 取1为bad, 0为good\n",
    "    ksds = pd.DataFrame({'bad': bad, 'pred': pred})\n",
    "    ksds['good'] = 1 - ksds.bad\n",
    "    \n",
    "    if asc == 1:\n",
    "        ksds1 = ksds.sort_values(by=['pred', 'bad'], ascending=[True, True])\n",
    "    elif asc == 0:\n",
    "        ksds1 = ksds.sort_values(by=['pred', 'bad'], ascending=[False, True])\n",
    "    ksds1.index = range(len(ksds1.pred))\n",
    "    ksds1['cumsum_good1'] = 1.0*ksds1.good.cumsum()/sum(ksds1.good)\n",
    "    ksds1['cumsum_bad1'] = 1.0*ksds1.bad.cumsum()/sum(ksds1.bad)\n",
    "    \n",
    "    if asc == 1:\n",
    "        ksds2 = ksds.sort_values(by=['pred', 'bad'], ascending=[True, False])\n",
    "    elif asc == 0:\n",
    "        ksds2 = ksds.sort_values(by=['pred', 'bad'], ascending=[False, False])\n",
    "    ksds2.index = range(len(ksds2.pred))\n",
    "    ksds2['cumsum_good2'] = 1.0*ksds2.good.cumsum()/sum(ksds2.good)\n",
    "    ksds2['cumsum_bad2'] = 1.0*ksds2.bad.cumsum()/sum(ksds2.bad)\n",
    "    \n",
    "    # ksds1 ksds2 -> average\n",
    "    ksds = ksds1[['cumsum_good1', 'cumsum_bad1']]\n",
    "    ksds['cumsum_good2'] = ksds2['cumsum_good2']\n",
    "    ksds['cumsum_bad2'] = ksds2['cumsum_bad2']\n",
    "    ksds['cumsum_good'] = (ksds['cumsum_good1'] + ksds['cumsum_good2'])/2\n",
    "    ksds['cumsum_bad'] = (ksds['cumsum_bad1'] + ksds['cumsum_bad2'])/2\n",
    "    \n",
    "    # ks\n",
    "    ksds['ks'] = ksds['cumsum_bad'] - ksds['cumsum_good']\n",
    "    ksds['tile0'] = range(1, len(ksds.ks) + 1)\n",
    "    ksds['tile'] = 1.0*ksds['tile0']/len(ksds['tile0'])\n",
    "    \n",
    "    qe = list(np.arange(0, 1, 1.0/n))\n",
    "    qe.append(1)\n",
    "    qe = qe[1:]\n",
    "    \n",
    "    ks_index = pd.Series(ksds.index)\n",
    "    ks_index = ks_index.quantile(q = qe)\n",
    "    ks_index = np.ceil(ks_index).astype(int)\n",
    "    ks_index = list(ks_index)\n",
    "  \n",
    "\n",
    "\n",
    "\n",
    "    ksds = ksds.loc[ks_index]\n",
    "    ksds = ksds[['tile', 'cumsum_good', 'cumsum_bad', 'ks']]\n",
    "    ksds0 = np.array([[0, 0, 0, 0]])\n",
    "    ksds = np.concatenate([ksds0, ksds], axis=0)\n",
    "    ksds = pd.DataFrame(ksds, columns=['tile', 'cumsum_good', 'cumsum_bad', 'ks'])\n",
    "    \n",
    "    ks_value = ksds.ks.max()\n",
    "    ks_pop = ksds.tile[ksds.ks.idxmax()]\n",
    "    print ('ks_value is ' + str(np.round(ks_value, 4)) + ' at pop = ' + str(np.round(ks_pop, 4)))\n",
    "    \n",
    "    # chart\n",
    "    plt.plot(ksds.tile, ksds.cumsum_good, label='cum_good',\n",
    "                         color='blue', linestyle='-', linewidth=2)\n",
    "                         \n",
    "    plt.plot(ksds.tile, ksds.cumsum_bad, label='cum_bad',\n",
    "                        color='red', linestyle='-', linewidth=2)\n",
    "                        \n",
    "    plt.plot(ksds.tile, ksds.ks, label='ks',\n",
    "                   color='green', linestyle='-', linewidth=2)\n",
    "                       \n",
    "    plt.axvline(ks_pop, color='gray', linestyle='--')\n",
    "    plt.axhline(ks_value, color='green', linestyle='--')\n",
    "    plt.axhline(ksds.loc[ksds.ks.idxmax(), 'cumsum_good'], color='blue', linestyle='--')\n",
    "    plt.axhline(ksds.loc[ksds.ks.idxmax(),'cumsum_bad'], color='red', linestyle='--')\n",
    "    plt.title('KS=%s ' %np.round(ks_value, 4) +  \n",
    "                'at Pop=%s' %np.round(ks_pop, 4), fontsize=25)\n",
    "    \n",
    "\n",
    "    return ksds,\n",
    "\n",
    "PlotKS(preds=resu, labels=Y_train, n=1000, asc=0)"
   ]
  },
  {
   "cell_type": "code",
   "execution_count": null,
   "metadata": {},
   "outputs": [],
   "source": []
  },
  {
   "cell_type": "code",
   "execution_count": null,
   "metadata": {},
   "outputs": [],
   "source": []
  },
  {
   "cell_type": "code",
   "execution_count": null,
   "metadata": {},
   "outputs": [],
   "source": []
  },
  {
   "cell_type": "code",
   "execution_count": null,
   "metadata": {},
   "outputs": [],
   "source": []
  },
  {
   "cell_type": "code",
   "execution_count": null,
   "metadata": {},
   "outputs": [],
   "source": []
  },
  {
   "cell_type": "code",
   "execution_count": null,
   "metadata": {},
   "outputs": [],
   "source": []
  }
 ],
 "metadata": {
  "kernelspec": {
   "display_name": "Python 3",
   "language": "python",
   "name": "python3"
  },
  "language_info": {
   "codemirror_mode": {
    "name": "ipython",
    "version": 3
   },
   "file_extension": ".py",
   "mimetype": "text/x-python",
   "name": "python",
   "nbconvert_exporter": "python",
   "pygments_lexer": "ipython3",
   "version": "3.7.1"
  }
 },
 "nbformat": 4,
 "nbformat_minor": 2
}
